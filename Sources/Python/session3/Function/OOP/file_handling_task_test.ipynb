{
 "cells": [
  {
   "cell_type": "code",
   "execution_count": null,
   "id": "7d1b030a",
   "metadata": {},
   "outputs": [
    {
     "name": "stdout",
     "output_type": "stream",
     "text": [
      "Directory already exists:  G:/DEPI/Depi_Amit_AI_BNS3/Sources/session2/Func_oop\n"
     ]
    }
   ],
   "source": [
    "import os\n",
    "dir1 = \"G:/DEPI/Depi_Amit_AI_BNS3/Sources/session2/Func_oop/test_folder\"\n",
    "if not os.path.exists(dir1):\n",
    "    os.makedirs(dir1)\n",
    "else:\n",
    "    print(\"Directory already exists: \", dir1)"
   ]
  },
  {
   "cell_type": "code",
   "execution_count": null,
   "id": "ec44c428",
   "metadata": {},
   "outputs": [],
   "source": [
    "import os\n",
    "path = \"G:/DEPI/Depi_Amit_AI_BNS3/Sources/session2/Func_oop/test_folder\"\n",
    "if not os.path.exists(path):\n",
    "    os.makedirs(path)\n",
    "for i in range (20):\n",
    "    inner_path = os.path.join(path,\"dir_\" + str(i))\n",
    "    if not os.path.exists(inner_path):\n",
    "            os.makedirs(inner_path)\n"
   ]
  },
  {
   "cell_type": "code",
   "execution_count": null,
   "id": "be7b7511",
   "metadata": {},
   "outputs": [],
   "source": [
    "import os\n",
    "import random\n",
    "path = \"G:/DEPI/Depi_Amit_AI_BNS3/Sources/session2/Func_oop/test_folder\"\n",
    "for i in range(20):\n",
    "    file_path = os.path.join(path, 'text_' + str(i) + '.txt')\n",
    "    f = open(file_path, 'w')\n",
    "    f.write('')\n",
    "    f.close()"
   ]
  },
  {
   "cell_type": "code",
   "execution_count": 19,
   "id": "8a450853",
   "metadata": {},
   "outputs": [
    {
     "name": "stdout",
     "output_type": "stream",
     "text": [
      "G:/DEPI/Depi_Amit_AI_BNS3/Sources/session2/Func_oop/test_folder\\text_17.txt\n",
      "random file is text_17.txt\n",
      "G:/DEPI/Depi_Amit_AI_BNS3/Sources/session2/Func_oop/test_folder\\text_19.txt\n",
      "random file is text_19.txt\n"
     ]
    },
    {
     "ename": "PermissionError",
     "evalue": "[WinError 32] The process cannot access the file because it is being used by another process: 'G:/DEPI/Depi_Amit_AI_BNS3/Sources/session2/Func_oop/test_folder\\\\text_19.txt'",
     "output_type": "error",
     "traceback": [
      "\u001b[31m---------------------------------------------------------------------------\u001b[39m",
      "\u001b[31mPermissionError\u001b[39m                           Traceback (most recent call last)",
      "\u001b[36mCell\u001b[39m\u001b[36m \u001b[39m\u001b[32mIn[19]\u001b[39m\u001b[32m, line 10\u001b[39m\n\u001b[32m      8\u001b[39m \u001b[38;5;28mprint\u001b[39m(file_path)\n\u001b[32m      9\u001b[39m \u001b[38;5;28mprint\u001b[39m(\u001b[33m'\u001b[39m\u001b[33mrandom file is \u001b[39m\u001b[33m'\u001b[39m + random_file)\n\u001b[32m---> \u001b[39m\u001b[32m10\u001b[39m \u001b[43mos\u001b[49m\u001b[43m.\u001b[49m\u001b[43mremove\u001b[49m\u001b[43m(\u001b[49m\u001b[43mfile_path\u001b[49m\u001b[43m)\u001b[49m\n",
      "\u001b[31mPermissionError\u001b[39m: [WinError 32] The process cannot access the file because it is being used by another process: 'G:/DEPI/Depi_Amit_AI_BNS3/Sources/session2/Func_oop/test_folder\\\\text_19.txt'"
     ]
    }
   ],
   "source": [
    "import os\n",
    "import random\n",
    "path = \"G:/DEPI/Depi_Amit_AI_BNS3/Sources/session2/Func_oop/test_folder\"\n",
    "for i in range(10):\n",
    "    files = os.listdir(path)\n",
    "    random_file = random.choice(files)\n",
    "    file_path = os.path.join(path, random_file)\n",
    "    print(file_path)\n",
    "    print('random file is ' + random_file)\n",
    "    os.remove(file_path)"
   ]
  },
  {
   "cell_type": "code",
   "execution_count": null,
   "id": "d1fbf38b",
   "metadata": {},
   "outputs": [
    {
     "name": "stdout",
     "output_type": "stream",
     "text": [
      "all files:\n",
      "['text_0.txt', 'text_1.txt', 'text_10.txt', 'text_11.txt', 'text_12.txt', 'text_13.txt', 'text_14.txt', 'text_15.txt', 'text_16.txt', 'text_17.txt', 'text_18.txt', 'text_19.txt', 'text_2.txt', 'text_3.txt', 'text_4.txt', 'text_5.txt', 'text_6.txt', 'text_7.txt', 'text_8.txt', 'text_9.txt']\n",
      "number of files in the folder is 20\n",
      "random file deleted is text_17.txt\n",
      "random file deleted is text_7.txt\n",
      "random file deleted is text_8.txt\n",
      "random file deleted is text_6.txt\n",
      "random file deleted is text_3.txt\n",
      "random file deleted is text_15.txt\n",
      "random file deleted is text_2.txt\n",
      "random file deleted is text_14.txt\n",
      "random file deleted is text_13.txt\n",
      "random file deleted is text_1.txt\n",
      "files after deleting half:\n",
      "['text_0.txt', 'text_10.txt', 'text_11.txt', 'text_12.txt', 'text_16.txt', 'text_18.txt', 'text_19.txt', 'text_4.txt', 'text_5.txt', 'text_9.txt']\n"
     ]
    }
   ],
   "source": [
    "import os\n",
    "import random\n",
    "\n",
    "def make_and_del(path):\n",
    "    '''\n",
    "    This function opens a folder and makes 20 files in the path that user enters\n",
    "    checks the number of files in the folder\n",
    "    deletes half the files in the folder and returns the remaining\n",
    "\n",
    "\n",
    "    path: takes the path of the folder from the uesr\n",
    "    type_path: str\n",
    "\n",
    "    invalid_path: if the the path given does not exist\n",
    "\n",
    "    return: returns the names of remaining files\n",
    "    type_return: list\n",
    "    '''\n",
    "path = \"G:/DEPI/Depi_Amit_AI_BNS3/Sources/session2/Func_oop/test_folder\"\n",
    "for i in range(20):\n",
    "    file_path = os.path.join(path, 'text_' + str(i) + '.txt')\n",
    "    f = open(file_path, 'w')\n",
    "    f.write('')\n",
    "    f.close()\n",
    "print('all files:')\n",
    "print(os.listdir(path))\n",
    "file_count = len(os.listdir(path))\n",
    "print('number of files in the folder is ' + str(file_count))\n",
    "for i in range(int(file_count/2)):\n",
    "    files = os.listdir(path)\n",
    "    random_file = random.choice(files)\n",
    "    file_path = os.path.join(path, random_file)\n",
    "    print('random file deleted is ' + random_file)\n",
    "    os.remove(file_path)\n",
    "print('files after deleting half:')\n",
    "print(os.listdir(path))"
   ]
  },
  {
   "cell_type": "code",
   "execution_count": null,
   "id": "2a14fa4d",
   "metadata": {},
   "outputs": [
    {
     "ename": "NameError",
     "evalue": "name 'path' is not defined",
     "output_type": "error",
     "traceback": [
      "\u001b[31m---------------------------------------------------------------------------\u001b[39m",
      "\u001b[31mNameError\u001b[39m                                 Traceback (most recent call last)",
      "\u001b[36mCell\u001b[39m\u001b[36m \u001b[39m\u001b[32mIn[1]\u001b[39m\u001b[32m, line 42\u001b[39m\n\u001b[32m     40\u001b[39m         \u001b[38;5;28mprint\u001b[39m(\u001b[33m'\u001b[39m\u001b[33mfiles after deleting half:\u001b[39m\u001b[33m'\u001b[39m)\n\u001b[32m     41\u001b[39m         \u001b[38;5;28mprint\u001b[39m(os.listdir(path))\n\u001b[32m---> \u001b[39m\u001b[32m42\u001b[39m make_and_del(\u001b[43mpath\u001b[49m)\n",
      "\u001b[31mNameError\u001b[39m: name 'path' is not defined"
     ]
    }
   ],
   "source": [
    "import os\n",
    "import random\n",
    "\n",
    "def make_and_del():\n",
    "    '''\n",
    "    This function opens a folder and makes 20 files in the path that user enters\n",
    "    checks the number of files in the folder\n",
    "    deletes half the files in the folder and returns the remaining\n",
    "\n",
    "\n",
    "    path: takes the path of the folder from the uesr\n",
    "    type_path: str\n",
    "\n",
    "    invalid_path: checks if the the path given does not exist\n",
    "\n",
    "    return: returns the names of remaining files\n",
    "    type_return: str\n",
    "    '''\n",
    "    print('Enter the path of the folder')\n",
    "    path = input('Enter the path of the folder')\n",
    "    if not os.path.exists(path):\n",
    "        print('Invalid Path!')\n",
    "        make_and_del()\n",
    "    else:\n",
    "        for i in range(20):\n",
    "            file_path = os.path.join(path, 'text_' + str(i) + '.txt')\n",
    "            f = open(file_path, 'w')\n",
    "            f.write('')\n",
    "            f.close()\n",
    "        print('all files:')\n",
    "        print(os.listdir(path))\n",
    "        file_count = len(os.listdir(path))\n",
    "        print('number of files in the folder is ' + str(file_count))\n",
    "        for i in range(int(file_count/2)):\n",
    "            files = os.listdir(path)\n",
    "            random_file = random.choice(files)\n",
    "            file_path = os.path.join(path, random_file)\n",
    "            print('random file deleted is ' + random_file)\n",
    "            os.remove(file_path)\n",
    "        print('files after deleting half:')\n",
    "        print(os.listdir(path))\n",
    "make_and_del()"
   ]
  }
 ],
 "metadata": {
  "kernelspec": {
   "display_name": ".env",
   "language": "python",
   "name": "python3"
  },
  "language_info": {
   "codemirror_mode": {
    "name": "ipython",
    "version": 3
   },
   "file_extension": ".py",
   "mimetype": "text/x-python",
   "name": "python",
   "nbconvert_exporter": "python",
   "pygments_lexer": "ipython3",
   "version": "3.12.9"
  }
 },
 "nbformat": 4,
 "nbformat_minor": 5
}
