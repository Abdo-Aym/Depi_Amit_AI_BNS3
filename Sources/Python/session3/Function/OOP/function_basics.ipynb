{
 "cells": [
  {
   "cell_type": "code",
   "execution_count": 13,
   "id": "6d12501e",
   "metadata": {},
   "outputs": [],
   "source": [
    "def info_std(name,age = 18):\n",
    "    '''\n",
    "    this function takes two inputs from user (his name and age)\n",
    "    parm_1: take the name from user\n",
    "    type_parm_1: str\n",
    "    parm_2: take the age from user\n",
    "    type_parm_2: int\n",
    "    return: return name and age of student\n",
    "    type_return: str, int\n",
    "    '''\n",
    "    print(f\"My name is {name},and my age is {age}\")"
   ]
  },
  {
   "cell_type": "code",
   "execution_count": 6,
   "id": "628839f5",
   "metadata": {},
   "outputs": [
    {
     "name": "stdout",
     "output_type": "stream",
     "text": [
      "My name is Ayman,and my age is 20\n"
     ]
    }
   ],
   "source": [
    "info_std('Ayman',20)"
   ]
  },
  {
   "cell_type": "code",
   "execution_count": 2,
   "id": "5f2b8b6a",
   "metadata": {},
   "outputs": [
    {
     "data": {
      "text/plain": [
       "-0.26237485370392877"
      ]
     },
     "execution_count": 2,
     "metadata": {},
     "output_type": "execute_result"
    }
   ],
   "source": [
    "import math\n",
    "math.sin(50)"
   ]
  },
  {
   "cell_type": "code",
   "execution_count": 7,
   "id": "93800d9b",
   "metadata": {},
   "outputs": [
    {
     "name": "stdout",
     "output_type": "stream",
     "text": [
      "My name is Ayman,and my age is 21\n"
     ]
    }
   ],
   "source": [
    "info_std(age= 21,name= \"Ayman\")"
   ]
  },
  {
   "cell_type": "code",
   "execution_count": 14,
   "id": "b29515dd",
   "metadata": {},
   "outputs": [
    {
     "name": "stdout",
     "output_type": "stream",
     "text": [
      "My name is Abdo,and my age is 18\n"
     ]
    }
   ],
   "source": [
    "info_std(\"Abdo\")"
   ]
  },
  {
   "cell_type": "code",
   "execution_count": 17,
   "id": "4217ffa9",
   "metadata": {},
   "outputs": [
    {
     "name": "stdout",
     "output_type": "stream",
     "text": [
      "My name is ('Ayman', 'Ali', 'Ahmed')\n",
      "<class 'tuple'>\n"
     ]
    }
   ],
   "source": [
    "def info_std(*name):\n",
    "    '''\n",
    "    this function takes two inputs from user (his name and age)\n",
    "    parm_1: take the name from user\n",
    "    type_parm_1: str\n",
    "    parm_2: take the age from user\n",
    "    type_parm_2: int\n",
    "    return: return name and age of student\n",
    "    type_return: str, int\n",
    "    '''\n",
    "    print(f\"My name is {name}\")\n",
    "    print(type(name))\n",
    "info_std('Ayman','Ali','Ahmed')"
   ]
  },
  {
   "cell_type": "code",
   "execution_count": 20,
   "id": "08e9663d",
   "metadata": {},
   "outputs": [
    {
     "name": "stdout",
     "output_type": "stream",
     "text": [
      "('hello', 'python', 'amit', 2, 2.5, True)\n",
      "<class 'tuple'>\n"
     ]
    }
   ],
   "source": [
    "def func1(*x):\n",
    "    print(x)\n",
    "    print(type(x))\n",
    "func1('hello', 'python', 'amit', 2, 2.5, True)"
   ]
  },
  {
   "cell_type": "code",
   "execution_count": 21,
   "id": "ea0c887a",
   "metadata": {},
   "outputs": [
    {
     "name": "stdout",
     "output_type": "stream",
     "text": [
      "My name is {'Ayman': 20, 'Ali': 25, 'Ahmed': '30'}\n",
      "<class 'dict'>\n"
     ]
    }
   ],
   "source": [
    "def info_std(**name):\n",
    "    '''\n",
    "    this function takes two inputs from user (his name and age)\n",
    "    parm_1: take the name from user\n",
    "    type_parm_1: str\n",
    "    parm_2: take the age from user\n",
    "    type_parm_2: int\n",
    "    return: return name and age of student\n",
    "    type_return: str, int\n",
    "    '''\n",
    "    print(f\"My name is {name}\")\n",
    "    print(type(name))\n",
    "info_std(Ayman= 20,Ali= 25,Ahmed= \"30\")"
   ]
  },
  {
   "cell_type": "code",
   "execution_count": null,
   "id": "aa966954",
   "metadata": {},
   "outputs": [
    {
     "data": {
      "text/plain": [
       "20"
      ]
     },
     "execution_count": 25,
     "metadata": {},
     "output_type": "execute_result"
    }
   ],
   "source": [
    "sum_n = lambda x : x+10\n",
    "sum_n(10)"
   ]
  },
  {
   "cell_type": "code",
   "execution_count": 26,
   "id": "d4cc5f99",
   "metadata": {},
   "outputs": [
    {
     "data": {
      "text/plain": [
       "20"
      ]
     },
     "execution_count": 26,
     "metadata": {},
     "output_type": "execute_result"
    }
   ],
   "source": [
    "def sum_num(x):\n",
    "    return x+10\n",
    "sum_num(10)"
   ]
  },
  {
   "cell_type": "code",
   "execution_count": null,
   "id": "c3a0760c",
   "metadata": {},
   "outputs": [],
   "source": [
    "def sum_num(x):\n",
    "    return x+10"
   ]
  },
  {
   "cell_type": "code",
   "execution_count": 27,
   "id": "7f3b35b9",
   "metadata": {},
   "outputs": [
    {
     "data": {
      "text/plain": [
       "30"
      ]
     },
     "execution_count": 27,
     "metadata": {},
     "output_type": "execute_result"
    }
   ],
   "source": [
    "sum_1 = lambda x,y : x+y\n",
    "sum_1(10,20)"
   ]
  },
  {
   "cell_type": "code",
   "execution_count": 28,
   "id": "bbc2b311",
   "metadata": {},
   "outputs": [
    {
     "data": {
      "text/plain": [
       "35"
      ]
     },
     "execution_count": 28,
     "metadata": {},
     "output_type": "execute_result"
    }
   ],
   "source": [
    "def sum_2(x,y):\n",
    "    return x+y\n",
    "sum_2(10,25)"
   ]
  },
  {
   "cell_type": "code",
   "execution_count": 30,
   "id": "ed1cfe05",
   "metadata": {},
   "outputs": [
    {
     "data": {
      "text/plain": [
       "22"
      ]
     },
     "execution_count": 30,
     "metadata": {},
     "output_type": "execute_result"
    }
   ],
   "source": [
    "def sum_n(n):\n",
    "    return lambda a : a*n\n",
    "fun_1 = sum_n(11)\n",
    "fun_1(2)"
   ]
  },
  {
   "cell_type": "code",
   "execution_count": 37,
   "id": "59b07f59",
   "metadata": {},
   "outputs": [
    {
     "name": "stdout",
     "output_type": "stream",
     "text": [
      "division by zero\n"
     ]
    }
   ],
   "source": [
    "try:\n",
    "    5/0\n",
    "except Exception as e:\n",
    "    print(e)"
   ]
  },
  {
   "cell_type": "code",
   "execution_count": 35,
   "id": "fe658ab0",
   "metadata": {},
   "outputs": [
    {
     "name": "stdout",
     "output_type": "stream",
     "text": [
      "Not acceptable to divide by Zero\n"
     ]
    }
   ],
   "source": [
    "try:\n",
    "    x=10\n",
    "    y=int(input('enter your value: '))\n",
    "    x/y\n",
    "except:\n",
    "    print('Not acceptable to divide by Zero')"
   ]
  },
  {
   "cell_type": "code",
   "execution_count": 39,
   "id": "433e73a6",
   "metadata": {},
   "outputs": [
    {
     "ename": "ZeroDivisionError",
     "evalue": "division by zero",
     "output_type": "error",
     "traceback": [
      "\u001b[31m---------------------------------------------------------------------------\u001b[39m",
      "\u001b[31mZeroDivisionError\u001b[39m                         Traceback (most recent call last)",
      "\u001b[36mCell\u001b[39m\u001b[36m \u001b[39m\u001b[32mIn[39]\u001b[39m\u001b[32m, line 4\u001b[39m\n\u001b[32m      2\u001b[39m y= \u001b[32m10\u001b[39m\n\u001b[32m      3\u001b[39m \u001b[38;5;28;01mtry\u001b[39;00m:\n\u001b[32m----> \u001b[39m\u001b[32m4\u001b[39m     \u001b[43ma\u001b[49m\u001b[43m/\u001b[49m\u001b[32;43m0\u001b[39;49m\n\u001b[32m      5\u001b[39m \u001b[38;5;28;01mexcept\u001b[39;00m \u001b[38;5;167;01mNameError\u001b[39;00m:\n\u001b[32m      6\u001b[39m     \u001b[38;5;28mprint\u001b[39m(\u001b[33m'\u001b[39m\u001b[33maaa\u001b[39m\u001b[33m'\u001b[39m)\n",
      "\u001b[31mZeroDivisionError\u001b[39m: division by zero"
     ]
    }
   ],
   "source": [
    "a=5\n",
    "y= 10\n",
    "try:\n",
    "    a/0\n",
    "except NameError:\n",
    "    print('aaa')"
   ]
  },
  {
   "cell_type": "code",
   "execution_count": 48,
   "id": "1c7a97f1",
   "metadata": {},
   "outputs": [
    {
     "data": {
      "text/plain": [
       "0.181113683637807"
      ]
     },
     "execution_count": 48,
     "metadata": {},
     "output_type": "execute_result"
    }
   ],
   "source": [
    "import random\n",
    "random.random\n",
    "n= random.random()\n",
    "def calc_degree(n):\n",
    "    return n*n\n",
    "calc_degree(n)"
   ]
  },
  {
   "cell_type": "code",
   "execution_count": 49,
   "id": "690251d6",
   "metadata": {},
   "outputs": [],
   "source": [
    "import os"
   ]
  },
  {
   "cell_type": "code",
   "execution_count": 50,
   "id": "379ffd46",
   "metadata": {},
   "outputs": [
    {
     "name": "stdout",
     "output_type": "stream",
     "text": [
      "['function_basics.ipynb']\n"
     ]
    }
   ],
   "source": [
    "file = os.listdir(\"G:/DEPI/Depi_Amit_AI_BNS3/Sources/session3/Function/OOP\")\n",
    "print(file)"
   ]
  },
  {
   "cell_type": "code",
   "execution_count": 52,
   "id": "711449ba",
   "metadata": {},
   "outputs": [
    {
     "data": {
      "text/plain": [
       "'G:/DEPI/Depi_Amit_AI_BNS3/Sources/session2/Func_oop\\\\test.txt'"
      ]
     },
     "execution_count": 52,
     "metadata": {},
     "output_type": "execute_result"
    }
   ],
   "source": [
    "base_dir = \"G:/DEPI/Depi_Amit_AI_BNS3/Sources/session2/Func_oop\"\n",
    "file_name = \"test.txt\"\n",
    "file_root_path = os.path.join(base_dir, file_name)\n",
    "file_root_path"
   ]
  },
  {
   "cell_type": "code",
   "execution_count": 54,
   "id": "9b3f6f6c",
   "metadata": {},
   "outputs": [
    {
     "name": "stdout",
     "output_type": "stream",
     "text": [
      "Directory already exists:  G:/DEPI/Depi_Amit_AI_BNS3/Sources/session2/Func_oop\n"
     ]
    }
   ],
   "source": [
    "import os\n",
    "dir1 = \"G:/DEPI/Depi_Amit_AI_BNS3/Sources/session2/Func_oop\"\n",
    "if not os.path.exists(dir1):\n",
    "    os.makedirs(dir1)\n",
    "else:\n",
    "    print(\"Directory already exists: \", dir1)"
   ]
  },
  {
   "cell_type": "code",
   "execution_count": 1,
   "id": "d1671256",
   "metadata": {},
   "outputs": [],
   "source": [
    "import os\n",
    "path = \"G:/DEPI/Depi_Amit_AI_BNS3/Sources/session2/Func_oop\"\n",
    "if not os.path.exists(path):\n",
    "    os.makedirs(path)\n",
    "for i in range (20):\n",
    "    inner_path = os.path.join(path,\"dir_\" + str(i))\n",
    "    if not os.path.exists(inner_path):\n",
    "            os.makedirs(inner_path)\n"
   ]
  },
  {
   "cell_type": "code",
   "execution_count": 66,
   "id": "80389b10",
   "metadata": {},
   "outputs": [
    {
     "data": {
      "text/plain": [
       "6"
      ]
     },
     "execution_count": 66,
     "metadata": {},
     "output_type": "execute_result"
    }
   ],
   "source": [
    "def factorial(num):\n",
    "    \"\"\"\n",
    "    \n",
    "    \"\"\"\n",
    "    if num == 0:\n",
    "        return 1\n",
    "    if num == 1:\n",
    "        return 1\n",
    "    return num*factorial(num-1)\n",
    "factorial(3)"
   ]
  },
  {
   "cell_type": "code",
   "execution_count": 69,
   "id": "103ccf56",
   "metadata": {},
   "outputs": [
    {
     "data": {
      "text/plain": [
       "'CTibOIcd'"
      ]
     },
     "execution_count": 69,
     "metadata": {},
     "output_type": "execute_result"
    }
   ],
   "source": [
    "import random\n",
    "def generate_password(length):\n",
    "    characters = \"abcdefghijklmnopqrstuvwxyzABCDEFGHIJKLMNOPQRSTUVWXYZ1234567890!@#$%^&*\"\n",
    "    password = \"\"\n",
    "    for _ in range (length):\n",
    "        password += random.choice(characters)\n",
    "    return password\n",
    "generate_password(8)"
   ]
  }
 ],
 "metadata": {
  "kernelspec": {
   "display_name": ".env",
   "language": "python",
   "name": "python3"
  },
  "language_info": {
   "codemirror_mode": {
    "name": "ipython",
    "version": 3
   },
   "file_extension": ".py",
   "mimetype": "text/x-python",
   "name": "python",
   "nbconvert_exporter": "python",
   "pygments_lexer": "ipython3",
   "version": "3.12.9"
  }
 },
 "nbformat": 4,
 "nbformat_minor": 5
}
