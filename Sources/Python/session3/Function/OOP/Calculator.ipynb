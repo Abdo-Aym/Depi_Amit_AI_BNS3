{
 "cells": [
  {
   "cell_type": "code",
   "execution_count": null,
   "id": "82220b82",
   "metadata": {},
   "outputs": [
    {
     "name": "stdout",
     "output_type": "stream",
     "text": [
      "Welcome to the Simple Calculator!\n",
      "Select an operation:\n",
      "    1. Addition (+)\n",
      "    2. Subtraction (-)\n",
      "    3. Multiplication (*)\n",
      "    4. Division (/)\n",
      "Enter your choice (1/2/3/4) or 'exit' to quit: \n",
      "9 / 5 = 1.8\n",
      "Enter your choice (1/2/3/4) or 'exit' to quit: \n",
      "Exiting the calculator. Goodbye!\n"
     ]
    }
   ],
   "source": [
    "print('Welcome to the Simple Calculator!')\n",
    "\n",
    "choice = '''Enter your choice (1/2/3/4) or 'exit' to quit: '''\n",
    "print('''Select an operation:\n",
    "    1. Addition (+)\n",
    "    2. Subtraction (-)\n",
    "    3. Multiplication (*)\n",
    "    4. Division (/)''')\n",
    "print(choice)\n",
    "operation = input(choice)\n",
    "\n",
    "while operation != 'exit':\n",
    "    a = int(input('Enter first number: '))\n",
    "    b = int(input('Enter second number: '))\n",
    "    if operation == '1':\n",
    "        res = a+b\n",
    "        print(f'{a} + {b} = {res}')\n",
    "    elif operation == '2':\n",
    "        res = a-b\n",
    "        print(f'{a} - {b} = {res}')\n",
    "    elif operation == '3':\n",
    "        res = a*b\n",
    "        print(f'{a} * {b} = {res}')\n",
    "    elif operation == '4':\n",
    "        res = a/b\n",
    "        print(f'{a} / {b} = {res}')\n",
    "    else:\n",
    "        print('Wrong Operation!')\n",
    "    print(choice)\n",
    "    operation = input(choice)\n",
    "print('Exiting the calculator. Goodbye!')"
   ]
  },
  {
   "cell_type": "code",
   "execution_count": null,
   "id": "20d85e22",
   "metadata": {},
   "outputs": [
    {
     "name": "stdout",
     "output_type": "stream",
     "text": [
      "Welcome to the Simple Calculator!\n",
      "Select an operation:\n",
      "    1. Addition (+)\n",
      "    2. Subtraction (-)\n",
      "    3. Multiplication (*)\n",
      "    4. Division (/)\n",
      "Enter your choice (1/2/3/4) or 'exit' to quit: \n"
     ]
    },
    {
     "ename": "NameError",
     "evalue": "name 'num1' is not defined",
     "output_type": "error",
     "traceback": [
      "\u001b[31m---------------------------------------------------------------------------\u001b[39m",
      "\u001b[31mNameError\u001b[39m                                 Traceback (most recent call last)",
      "\u001b[36mCell\u001b[39m\u001b[36m \u001b[39m\u001b[32mIn[2]\u001b[39m\u001b[32m, line 25\u001b[39m\n\u001b[32m     20\u001b[39m         \u001b[38;5;28;01mreturn\u001b[39;00m \u001b[38;5;28mself\u001b[39m.num1 - \u001b[38;5;28mself\u001b[39m.num2\n\u001b[32m     24\u001b[39m \u001b[38;5;28;01mwhile\u001b[39;00m operation != \u001b[33m'\u001b[39m\u001b[33mexit\u001b[39m\u001b[33m'\u001b[39m:\n\u001b[32m---> \u001b[39m\u001b[32m25\u001b[39m     c1 = calc(operation,\u001b[43mnum1\u001b[49m,num2)\n\u001b[32m     26\u001b[39m     \u001b[38;5;28;01mif\u001b[39;00m operation == \u001b[33m'\u001b[39m\u001b[33m1\u001b[39m\u001b[33m'\u001b[39m:\n\u001b[32m     27\u001b[39m         c1.addition(num1,num2)\n",
      "\u001b[31mNameError\u001b[39m: name 'num1' is not defined"
     ]
    }
   ],
   "source": [
    "print('Welcome to the Simple Calculator!')\n",
    "\n",
    "choice = '''Enter your choice (1/2/3/4) or 'exit' to quit: '''\n",
    "print('''Select an operation:\n",
    "    1. Addition (+)\n",
    "    2. Subtraction (-)\n",
    "    3. Multiplication (*)\n",
    "    4. Division (/)''')\n",
    "print(choice)\n",
    "operation = input(choice)\n",
    "\n",
    "class calc:\n",
    "    def __init__(self,operation,num1,num2):\n",
    "        self.num1 = num1\n",
    "        self.num2 = num2\n",
    "        self.operation =operation\n",
    "    def addition(self):\n",
    "        return self.num1 + self.num2\n",
    "    def sub(self):\n",
    "        return self.num1 - self.num2\n",
    "    def multi(self):\n",
    "        return self.num1*self.num2\n",
    "    def div(self):\n",
    "        return self.num1/self.num2\n",
    "    \n",
    "        \n",
    "\n",
    "while operation != 'exit':\n",
    "    c1 = calc(operation,num1,num2)\n",
    "    if operation == '1':\n",
    "        c1.addition(num1,num2)\n",
    "    elif operation == '2':\n",
    "        c1.sub(num1,num2)\n",
    "    elif operation == '3':\n",
    "        c1.multi(num1,num2)\n",
    "    elif operation == '4':\n",
    "        c1.div(num1,num2)\n",
    "    else:\n",
    "        print('Wrong Operation!')\n",
    "    print(choice)\n",
    "    operation = input(choice)\n",
    "print('Exiting the calculator. Goodbye!')"
   ]
  }
 ],
 "metadata": {
  "kernelspec": {
   "display_name": ".env",
   "language": "python",
   "name": "python3"
  },
  "language_info": {
   "codemirror_mode": {
    "name": "ipython",
    "version": 3
   },
   "file_extension": ".py",
   "mimetype": "text/x-python",
   "name": "python",
   "nbconvert_exporter": "python",
   "pygments_lexer": "ipython3",
   "version": "3.12.9"
  }
 },
 "nbformat": 4,
 "nbformat_minor": 5
}
