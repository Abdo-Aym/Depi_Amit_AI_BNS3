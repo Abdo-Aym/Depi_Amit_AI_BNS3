{
 "cells": [
  {
   "cell_type": "code",
   "execution_count": 3,
   "id": "1bbd6889",
   "metadata": {},
   "outputs": [],
   "source": [
    "import random\n",
    "responses = {\n",
    "    \"hello\": [\"Hello!\", \"Hi there!\", \"Greetings!\"],\n",
    "    \"how are you\": [\"I'm doing well, thank you!\", \"I'm fine, how about you?\"],\n",
    "    \"goodbye\": [\"Goodbye!\", \"See you later!\", \"Farewell!\"],\n",
    "    \"default\": [\"I'm sorry, I didn't understand.\", \"Could you please rephrase that?\"]\n",
    "}\n",
    "def get_res(user_in):\n",
    "    for key in responses:\n",
    "        if key in user_in:\n",
    "            return random.choice(responses[key])\n",
    "    return random.choice(responses[\"default\"])\n",
    "\n",
    "def chatbot():\n",
    "    print('Chatbot: Hi! How can I assist you today?')\n",
    "    while True:\n",
    "        user_in = input('User: ').lower()\n",
    "        response = get_res(user_in)\n",
    "        print('Chatbot: ', response)\n",
    "        if user_in == 'goodbye':\n",
    "            break"
   ]
  },
  {
   "cell_type": "code",
   "execution_count": 1,
   "id": "b8f08fb5",
   "metadata": {},
   "outputs": [
    {
     "name": "stdout",
     "output_type": "stream",
     "text": [
      "hello\n",
      "how are you\n",
      "goodbye\n",
      "default\n"
     ]
    }
   ],
   "source": [
    "responses = {\n",
    "    \"hello\": [\"Hello!\", \"Hi there!\", \"Greetings!\"],\n",
    "    \"how are you\": [\"I'm doing well, thank you!\", \"I'm fine, how about you?\"],\n",
    "    \"goodbye\": [\"Goodbye!\", \"See you later!\", \"Farewell!\"],\n",
    "    \"default\": [\"I'm sorry, I didn't understand.\", \"Could you please rephrase that?\"]\n",
    "}\n",
    "for key in responses:\n",
    "    print(key)"
   ]
  },
  {
   "cell_type": "code",
   "execution_count": 6,
   "id": "193ff54b",
   "metadata": {},
   "outputs": [
    {
     "name": "stdout",
     "output_type": "stream",
     "text": [
      "Chatbot: Hi! How can I assist you today?\n"
     ]
    },
    {
     "ename": "NameError",
     "evalue": "name 'responses' is not defined",
     "output_type": "error",
     "traceback": [
      "\u001b[31m---------------------------------------------------------------------------\u001b[39m",
      "\u001b[31mNameError\u001b[39m                                 Traceback (most recent call last)",
      "\u001b[36mCell\u001b[39m\u001b[36m \u001b[39m\u001b[32mIn[6]\u001b[39m\u001b[32m, line 1\u001b[39m\n\u001b[32m----> \u001b[39m\u001b[32m1\u001b[39m \u001b[43mchatbot\u001b[49m\u001b[43m(\u001b[49m\u001b[43m)\u001b[49m\n",
      "\u001b[36mCell\u001b[39m\u001b[36m \u001b[39m\u001b[32mIn[5]\u001b[39m\u001b[32m, line 12\u001b[39m, in \u001b[36mchatbot\u001b[39m\u001b[34m()\u001b[39m\n\u001b[32m     10\u001b[39m \u001b[38;5;28;01mwhile\u001b[39;00m \u001b[38;5;28;01mTrue\u001b[39;00m:\n\u001b[32m     11\u001b[39m     user_in = \u001b[38;5;28minput\u001b[39m(\u001b[33m'\u001b[39m\u001b[33mUser: \u001b[39m\u001b[33m'\u001b[39m).lower()\n\u001b[32m---> \u001b[39m\u001b[32m12\u001b[39m     response = \u001b[43mget_res\u001b[49m\u001b[43m(\u001b[49m\u001b[43muser_in\u001b[49m\u001b[43m)\u001b[49m\n\u001b[32m     13\u001b[39m     \u001b[38;5;28mprint\u001b[39m(\u001b[33m'\u001b[39m\u001b[33mChatbot: \u001b[39m\u001b[33m'\u001b[39m, response)\n\u001b[32m     14\u001b[39m     \u001b[38;5;28;01mif\u001b[39;00m user_in == \u001b[33m'\u001b[39m\u001b[33mgoodbye\u001b[39m\u001b[33m'\u001b[39m:\n",
      "\u001b[36mFile \u001b[39m\u001b[32mg:\\DEPI\\Depi_Amit_AI_BNS3\\Sources\\session4\\response.py:4\u001b[39m, in \u001b[36mget_res\u001b[39m\u001b[34m(user_in)\u001b[39m\n\u001b[32m      3\u001b[39m \u001b[38;5;28;01mdef\u001b[39;00m\u001b[38;5;250m \u001b[39m\u001b[34mget_res\u001b[39m(user_in):\n\u001b[32m----> \u001b[39m\u001b[32m4\u001b[39m     \u001b[38;5;28;01mfor\u001b[39;00m key \u001b[38;5;129;01min\u001b[39;00m \u001b[43mresponses\u001b[49m:\n\u001b[32m      5\u001b[39m         \u001b[38;5;28;01mif\u001b[39;00m key \u001b[38;5;129;01min\u001b[39;00m user_in:\n\u001b[32m      6\u001b[39m             \u001b[38;5;28;01mreturn\u001b[39;00m random.choice(responses[key])\n",
      "\u001b[31mNameError\u001b[39m: name 'responses' is not defined"
     ]
    }
   ],
   "source": [
    "chatbot()"
   ]
  },
  {
   "cell_type": "code",
   "execution_count": 7,
   "id": "1275db9c",
   "metadata": {},
   "outputs": [
    {
     "name": "stdout",
     "output_type": "stream",
     "text": [
      "Chatbot: Hi! How can I assist you today?\n"
     ]
    },
    {
     "ename": "NameError",
     "evalue": "name 'responses' is not defined",
     "output_type": "error",
     "traceback": [
      "\u001b[31m---------------------------------------------------------------------------\u001b[39m",
      "\u001b[31mNameError\u001b[39m                                 Traceback (most recent call last)",
      "\u001b[36mCell\u001b[39m\u001b[36m \u001b[39m\u001b[32mIn[7]\u001b[39m\u001b[32m, line 18\u001b[39m\n\u001b[32m     14\u001b[39m         \u001b[38;5;28;01mif\u001b[39;00m user_in == \u001b[33m'\u001b[39m\u001b[33mgoodbye\u001b[39m\u001b[33m'\u001b[39m:\n\u001b[32m     15\u001b[39m             \u001b[38;5;28;01mbreak\u001b[39;00m\n\u001b[32m---> \u001b[39m\u001b[32m18\u001b[39m \u001b[43mchatbot\u001b[49m\u001b[43m(\u001b[49m\u001b[43m)\u001b[49m\n",
      "\u001b[36mCell\u001b[39m\u001b[36m \u001b[39m\u001b[32mIn[7]\u001b[39m\u001b[32m, line 12\u001b[39m, in \u001b[36mchatbot\u001b[39m\u001b[34m()\u001b[39m\n\u001b[32m     10\u001b[39m \u001b[38;5;28;01mwhile\u001b[39;00m \u001b[38;5;28;01mTrue\u001b[39;00m:\n\u001b[32m     11\u001b[39m     user_in = \u001b[38;5;28minput\u001b[39m(\u001b[33m'\u001b[39m\u001b[33mUser: \u001b[39m\u001b[33m'\u001b[39m).lower()\n\u001b[32m---> \u001b[39m\u001b[32m12\u001b[39m     response = \u001b[43mget_res\u001b[49m\u001b[43m(\u001b[49m\u001b[43muser_in\u001b[49m\u001b[43m)\u001b[49m\n\u001b[32m     13\u001b[39m     \u001b[38;5;28mprint\u001b[39m(\u001b[33m'\u001b[39m\u001b[33mChatbot: \u001b[39m\u001b[33m'\u001b[39m, response)\n\u001b[32m     14\u001b[39m     \u001b[38;5;28;01mif\u001b[39;00m user_in == \u001b[33m'\u001b[39m\u001b[33mgoodbye\u001b[39m\u001b[33m'\u001b[39m:\n",
      "\u001b[36mFile \u001b[39m\u001b[32mg:\\DEPI\\Depi_Amit_AI_BNS3\\Sources\\session4\\response.py:4\u001b[39m, in \u001b[36mget_res\u001b[39m\u001b[34m(user_in)\u001b[39m\n\u001b[32m      3\u001b[39m \u001b[38;5;28;01mdef\u001b[39;00m\u001b[38;5;250m \u001b[39m\u001b[34mget_res\u001b[39m(user_in):\n\u001b[32m----> \u001b[39m\u001b[32m4\u001b[39m     \u001b[38;5;28;01mfor\u001b[39;00m key \u001b[38;5;129;01min\u001b[39;00m \u001b[43mresponses\u001b[49m:\n\u001b[32m      5\u001b[39m         \u001b[38;5;28;01mif\u001b[39;00m key \u001b[38;5;129;01min\u001b[39;00m user_in:\n\u001b[32m      6\u001b[39m             \u001b[38;5;28;01mreturn\u001b[39;00m random.choice(responses[key])\n",
      "\u001b[31mNameError\u001b[39m: name 'responses' is not defined"
     ]
    }
   ],
   "source": [
    "import random\n",
    "import json\n",
    "from response import get_res\n",
    "with open(\"G:/DEPI/Depi_Amit_AI_BNS3/Sources/session4/chatbot.json\",\"r\") as file:\n",
    "    responses = json.load(file)\n",
    "\n",
    "\n",
    "def chatbot():\n",
    "    print('Chatbot: Hi! How can I assist you today?')\n",
    "    while True:\n",
    "        user_in = input('User: ').lower()\n",
    "        response = get_res(user_in)\n",
    "        print('Chatbot: ', response)\n",
    "        if user_in == 'goodbye':\n",
    "            break\n",
    "\n",
    "\n",
    "chatbot()"
   ]
  },
  {
   "cell_type": "code",
   "execution_count": 8,
   "id": "5b43b549",
   "metadata": {},
   "outputs": [
    {
     "name": "stdout",
     "output_type": "stream",
     "text": [
      "Chatbot: Hi! How can I assist you today?\n"
     ]
    },
    {
     "ename": "NameError",
     "evalue": "name 'responses' is not defined",
     "output_type": "error",
     "traceback": [
      "\u001b[31m---------------------------------------------------------------------------\u001b[39m",
      "\u001b[31mNameError\u001b[39m                                 Traceback (most recent call last)",
      "\u001b[36mCell\u001b[39m\u001b[36m \u001b[39m\u001b[32mIn[8]\u001b[39m\u001b[32m, line 6\u001b[39m\n\u001b[32m      4\u001b[39m \u001b[38;5;28;01mwhile\u001b[39;00m \u001b[38;5;28;01mTrue\u001b[39;00m:\n\u001b[32m      5\u001b[39m     user_in = \u001b[38;5;28minput\u001b[39m(\u001b[33m'\u001b[39m\u001b[33mUser: \u001b[39m\u001b[33m'\u001b[39m).lower()\n\u001b[32m----> \u001b[39m\u001b[32m6\u001b[39m     response = \u001b[43mget_res\u001b[49m\u001b[43m(\u001b[49m\u001b[43muser_in\u001b[49m\u001b[43m)\u001b[49m\n\u001b[32m      7\u001b[39m     \u001b[38;5;28mprint\u001b[39m(\u001b[33m'\u001b[39m\u001b[33mChatbot: \u001b[39m\u001b[33m'\u001b[39m, response)\n\u001b[32m      8\u001b[39m     \u001b[38;5;28;01mif\u001b[39;00m user_in == \u001b[33m'\u001b[39m\u001b[33mgoodbye\u001b[39m\u001b[33m'\u001b[39m:\n",
      "\u001b[36mFile \u001b[39m\u001b[32mg:\\DEPI\\Depi_Amit_AI_BNS3\\Sources\\session4\\response.py:4\u001b[39m, in \u001b[36mget_res\u001b[39m\u001b[34m(user_in)\u001b[39m\n\u001b[32m      3\u001b[39m \u001b[38;5;28;01mdef\u001b[39;00m\u001b[38;5;250m \u001b[39m\u001b[34mget_res\u001b[39m(user_in):\n\u001b[32m----> \u001b[39m\u001b[32m4\u001b[39m     \u001b[38;5;28;01mfor\u001b[39;00m key \u001b[38;5;129;01min\u001b[39;00m \u001b[43mresponses\u001b[49m:\n\u001b[32m      5\u001b[39m         \u001b[38;5;28;01mif\u001b[39;00m key \u001b[38;5;129;01min\u001b[39;00m user_in:\n\u001b[32m      6\u001b[39m             \u001b[38;5;28;01mreturn\u001b[39;00m random.choice(responses[key])\n",
      "\u001b[31mNameError\u001b[39m: name 'responses' is not defined"
     ]
    }
   ],
   "source": [
    "# from response import get_res      # That was the problem although it was not in the session\n",
    "if __name__ == \"__main__\":\n",
    "    print('Chatbot: Hi! How can I assist you today?')\n",
    "    while True:\n",
    "        user_in = input('User: ').lower()\n",
    "        response = get_res(user_in)\n",
    "        print('Chatbot: ', response)\n",
    "        if user_in == 'goodbye':\n",
    "            break"
   ]
  }
 ],
 "metadata": {
  "kernelspec": {
   "display_name": ".env",
   "language": "python",
   "name": "python3"
  },
  "language_info": {
   "codemirror_mode": {
    "name": "ipython",
    "version": 3
   },
   "file_extension": ".py",
   "mimetype": "text/x-python",
   "name": "python",
   "nbconvert_exporter": "python",
   "pygments_lexer": "ipython3",
   "version": "3.12.9"
  }
 },
 "nbformat": 4,
 "nbformat_minor": 5
}
