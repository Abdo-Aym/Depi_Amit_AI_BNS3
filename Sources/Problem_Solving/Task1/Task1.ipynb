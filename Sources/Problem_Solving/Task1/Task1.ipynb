{
 "cells": [
  {
   "cell_type": "markdown",
   "id": "c0612622",
   "metadata": {},
   "source": [
    "# Question1\n",
    "# Merge Strings Alternately"
   ]
  },
  {
   "cell_type": "code",
   "execution_count": null,
   "id": "fbb518f5",
   "metadata": {},
   "outputs": [
    {
     "name": "stdout",
     "output_type": "stream",
     "text": [
      "Word1 is bjfrs\n",
      "Word2 is io\n",
      "bijofrs\n"
     ]
    }
   ],
   "source": [
    "new = []\n",
    "word1 = list(input('Enter word1'))\n",
    "word2 = list(input('Enter word2'))\n",
    "if len(word1) >= len(word2):\n",
    "    for i in range(len(word2)):\n",
    "        new.extend(word1[i] + word2[i])\n",
    "    new.extend(word1[len(word2):])\n",
    "else:\n",
    "    for i in range(len(word1)):\n",
    "        new.extend(word1[i] + word2[i])\n",
    "    new.extend(word2[len(word1):])\n",
    "        \n",
    "print(f'Word1 is {''.join(word1)}')\n",
    "print(f'Word2 is {''.join(word2)}')\n",
    "print(''.join(new))"
   ]
  },
  {
   "cell_type": "markdown",
   "id": "bb50e255",
   "metadata": {},
   "source": [
    "# Question2"
   ]
  },
  {
   "cell_type": "code",
   "execution_count": null,
   "id": "121afff3",
   "metadata": {},
   "outputs": [],
   "source": []
  }
 ],
 "metadata": {
  "kernelspec": {
   "display_name": "Python 3",
   "language": "python",
   "name": "python3"
  },
  "language_info": {
   "codemirror_mode": {
    "name": "ipython",
    "version": 3
   },
   "file_extension": ".py",
   "mimetype": "text/x-python",
   "name": "python",
   "nbconvert_exporter": "python",
   "pygments_lexer": "ipython3",
   "version": "3.12.9"
  }
 },
 "nbformat": 4,
 "nbformat_minor": 5
}
