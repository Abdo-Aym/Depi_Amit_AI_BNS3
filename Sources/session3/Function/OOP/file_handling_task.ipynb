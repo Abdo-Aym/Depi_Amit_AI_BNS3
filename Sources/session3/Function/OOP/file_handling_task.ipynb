{
 "cells": [
  {
   "cell_type": "code",
   "execution_count": 9,
   "id": "6e37b4de",
   "metadata": {},
   "outputs": [
    {
     "name": "stdout",
     "output_type": "stream",
     "text": [
      "Enter the path of the folder\n",
      "Invalid Path!\n",
      "Enter the path of the folder\n",
      "Invalid Path!\n",
      "Enter the path of the folder\n",
      "Invalid Path!\n",
      "Enter the path of the folder\n",
      "Invalid Path!\n",
      "Enter the path of the folder\n",
      "all files:\n",
      "['text_0.txt', 'text_1.txt', 'text_10.txt', 'text_11.txt', 'text_12.txt', 'text_13.txt', 'text_14.txt', 'text_15.txt', 'text_16.txt', 'text_17.txt', 'text_18.txt', 'text_19.txt', 'text_2.txt', 'text_3.txt', 'text_4.txt', 'text_5.txt', 'text_6.txt', 'text_7.txt', 'text_8.txt', 'text_9.txt']\n",
      "number of files in the folder is 20\n",
      "random file deleted is text_11.txt\n",
      "random file deleted is text_6.txt\n",
      "random file deleted is text_7.txt\n",
      "random file deleted is text_1.txt\n",
      "random file deleted is text_5.txt\n",
      "random file deleted is text_10.txt\n",
      "random file deleted is text_17.txt\n",
      "random file deleted is text_15.txt\n",
      "random file deleted is text_9.txt\n",
      "random file deleted is text_18.txt\n",
      "files after deleting half:\n",
      "['text_0.txt', 'text_12.txt', 'text_13.txt', 'text_14.txt', 'text_16.txt', 'text_19.txt', 'text_2.txt', 'text_3.txt', 'text_4.txt', 'text_8.txt']\n"
     ]
    }
   ],
   "source": [
    "import os\n",
    "import random\n",
    "\n",
    "def make_and_del():\n",
    "    '''\n",
    "    This function opens a folder and makes 20 files in the path that user enters\n",
    "    checks the number of files in the folder\n",
    "    deletes half the files in the folder and returns the remaining\n",
    "\n",
    "\n",
    "    path: takes the path of the folder from the uesr\n",
    "    type_path: str\n",
    "\n",
    "    invalid_path: checks if the the path given does not exist\n",
    "\n",
    "    return: returns the names of remaining files\n",
    "    type_return: str\n",
    "    '''\n",
    "    print('Enter the path of the folder')\n",
    "    path = input('Enter the path of the folder')\n",
    "    if not os.path.exists(path):\n",
    "        print('Invalid Path!')\n",
    "        make_and_del()\n",
    "    else:\n",
    "        for i in range(20):\n",
    "            file_path = os.path.join(path, 'text_' + str(i) + '.txt')\n",
    "            f = open(file_path, 'w')\n",
    "            f.write('')\n",
    "            f.close()\n",
    "        print('all files:')\n",
    "        print(os.listdir(path))\n",
    "        file_count = len(os.listdir(path))\n",
    "        print('number of files in the folder is ' + str(file_count))\n",
    "        for i in range(int(file_count/2)):\n",
    "            files = os.listdir(path)\n",
    "            random_file = random.choice(files)\n",
    "            file_path = os.path.join(path, random_file)\n",
    "            print('random file deleted is ' + random_file)\n",
    "            os.remove(file_path)\n",
    "        print('files after deleting half:')\n",
    "        print(os.listdir(path))\n",
    "make_and_del()"
   ]
  }
 ],
 "metadata": {
  "kernelspec": {
   "display_name": ".env",
   "language": "python",
   "name": "python3"
  },
  "language_info": {
   "codemirror_mode": {
    "name": "ipython",
    "version": 3
   },
   "file_extension": ".py",
   "mimetype": "text/x-python",
   "name": "python",
   "nbconvert_exporter": "python",
   "pygments_lexer": "ipython3",
   "version": "3.12.9"
  }
 },
 "nbformat": 4,
 "nbformat_minor": 5
}
