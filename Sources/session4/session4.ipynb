{
 "cells": [
  {
   "cell_type": "code",
   "execution_count": 18,
   "id": "21eda6db",
   "metadata": {},
   "outputs": [],
   "source": [
    "class student:\n",
    "    name = 'ayman'\n",
    "    age = 20\n",
    "    gpa = 3.7\n",
    "    gender = 'male'\n",
    "    def info(self):\n",
    "        '''\n",
    "        This fun. gets me information about the students\n",
    "        '''\n",
    "        # print(name,age,gpa,gender)\n",
    "        print('hello')"
   ]
  },
  {
   "cell_type": "code",
   "execution_count": null,
   "id": "8b89c724",
   "metadata": {},
   "outputs": [
    {
     "name": "stdout",
     "output_type": "stream",
     "text": [
      "hello\n"
     ]
    },
    {
     "data": {
      "text/plain": [
       "<__main__.student at 0x1f308f68110>"
      ]
     },
     "execution_count": 25,
     "metadata": {},
     "output_type": "execute_result"
    }
   ],
   "source": [
    "s1 = student()\n",
    "s1.name = 'Abdo'\n",
    "s1.info()\n",
    "s1"
   ]
  },
  {
   "cell_type": "code",
   "execution_count": 26,
   "id": "2da710b0",
   "metadata": {},
   "outputs": [
    {
     "name": "stdout",
     "output_type": "stream",
     "text": [
      "<__main__.test object at 0x000001F308F261B0>\n",
      "<__main__.test object at 0x000001F308F261B0>\n"
     ]
    },
    {
     "data": {
      "text/plain": [
       "<__main__.test at 0x1f308f261b0>"
      ]
     },
     "execution_count": 26,
     "metadata": {},
     "output_type": "execute_result"
    }
   ],
   "source": [
    "class test:\n",
    "    def info(self):\n",
    "        print(self)\n",
    "    \n",
    "x= test()\n",
    "print(x)\n",
    "x.info()\n",
    "x"
   ]
  },
  {
   "cell_type": "code",
   "execution_count": null,
   "id": "862924b2",
   "metadata": {},
   "outputs": [],
   "source": [
    "class student:\n",
    "    def __init__(self, name):\n",
    "        self.name = name\n"
   ]
  },
  {
   "cell_type": "code",
   "execution_count": 33,
   "id": "281c09a4",
   "metadata": {},
   "outputs": [
    {
     "data": {
      "text/plain": [
       "'aya'"
      ]
     },
     "execution_count": 33,
     "metadata": {},
     "output_type": "execute_result"
    }
   ],
   "source": [
    "s1 = student('aya')\n",
    "s1.name"
   ]
  },
  {
   "cell_type": "code",
   "execution_count": 37,
   "id": "66ffbb7b",
   "metadata": {},
   "outputs": [],
   "source": [
    "class calc:\n",
    "    def __init__(self,num1,num2):\n",
    "        self.num1 = num1\n",
    "        self.num2 = num2\n",
    "    def addition(self):\n",
    "        return self.num1 + self.num2\n",
    "    "
   ]
  },
  {
   "cell_type": "code",
   "execution_count": 38,
   "id": "1090a33b",
   "metadata": {},
   "outputs": [
    {
     "data": {
      "text/plain": [
       "50"
      ]
     },
     "execution_count": 38,
     "metadata": {},
     "output_type": "execute_result"
    }
   ],
   "source": [
    "c1 = calc(20,30)\n",
    "c1.addition()"
   ]
  },
  {
   "cell_type": "code",
   "execution_count": null,
   "id": "ef80a5e0",
   "metadata": {},
   "outputs": [],
   "source": [
    "class person:\n",
    "    pass\n",
    "class student(person):\n",
    "    pass\n",
    "# inheritance"
   ]
  },
  {
   "cell_type": "code",
   "execution_count": 39,
   "id": "762ad394",
   "metadata": {},
   "outputs": [],
   "source": [
    "from abc import ABC, abstractclassmethod\n",
    "class Animal(ABC):\n",
    "    @abstractclassmethod\n",
    "    def move(self):\n",
    "        pass\n",
    "class Bird(Animal):\n",
    "    def move(self):\n",
    "        print('move from bird')\n",
    "class Cat(Animal):\n",
    "    def move(self):\n",
    "        print('move from cat')\n",
    "\n"
   ]
  },
  {
   "cell_type": "code",
   "execution_count": 43,
   "id": "4f821276",
   "metadata": {},
   "outputs": [
    {
     "name": "stdout",
     "output_type": "stream",
     "text": [
      "move from bird\n"
     ]
    }
   ],
   "source": [
    "a = Bird()\n",
    "a.move()"
   ]
  },
  {
   "cell_type": "code",
   "execution_count": 42,
   "id": "b54e5582",
   "metadata": {},
   "outputs": [
    {
     "ename": "TypeError",
     "evalue": "Can't instantiate abstract class Animal without an implementation for abstract method 'move'",
     "output_type": "error",
     "traceback": [
      "\u001b[31m---------------------------------------------------------------------------\u001b[39m",
      "\u001b[31mTypeError\u001b[39m                                 Traceback (most recent call last)",
      "\u001b[36mCell\u001b[39m\u001b[36m \u001b[39m\u001b[32mIn[42]\u001b[39m\u001b[32m, line 1\u001b[39m\n\u001b[32m----> \u001b[39m\u001b[32m1\u001b[39m a= \u001b[43mAnimal\u001b[49m\u001b[43m(\u001b[49m\u001b[43m)\u001b[49m\n\u001b[32m      2\u001b[39m a.move()\n",
      "\u001b[31mTypeError\u001b[39m: Can't instantiate abstract class Animal without an implementation for abstract method 'move'"
     ]
    }
   ],
   "source": [
    "a= Animal()\n",
    "a.move()"
   ]
  },
  {
   "cell_type": "code",
   "execution_count": null,
   "id": "76514766",
   "metadata": {},
   "outputs": [],
   "source": [
    "class car:\n",
    "    _en"
   ]
  },
  {
   "cell_type": "code",
   "execution_count": null,
   "id": "70d227f1",
   "metadata": {},
   "outputs": [],
   "source": [
    "# multi-inheretance"
   ]
  }
 ],
 "metadata": {
  "kernelspec": {
   "display_name": ".env",
   "language": "python",
   "name": "python3"
  },
  "language_info": {
   "codemirror_mode": {
    "name": "ipython",
    "version": 3
   },
   "file_extension": ".py",
   "mimetype": "text/x-python",
   "name": "python",
   "nbconvert_exporter": "python",
   "pygments_lexer": "ipython3",
   "version": "3.12.9"
  }
 },
 "nbformat": 4,
 "nbformat_minor": 5
}
