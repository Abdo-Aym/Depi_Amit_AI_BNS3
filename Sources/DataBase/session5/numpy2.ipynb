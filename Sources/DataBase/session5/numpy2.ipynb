{
 "cells": [
  {
   "cell_type": "code",
   "execution_count": 2,
   "id": "63f49270",
   "metadata": {},
   "outputs": [],
   "source": [
    "import numpy as np"
   ]
  },
  {
   "cell_type": "code",
   "execution_count": 5,
   "id": "ffdd66fc",
   "metadata": {},
   "outputs": [
    {
     "data": {
      "text/plain": [
       "array([[1., 1., 1., 1.],\n",
       "       [1., 1., 1., 1.],\n",
       "       [1., 1., 1., 1.]])"
      ]
     },
     "execution_count": 5,
     "metadata": {},
     "output_type": "execute_result"
    }
   ],
   "source": [
    "mat1 = np.ones((3,4))\n",
    "mat2 = np.zeros((5,3))\n",
    "mat1"
   ]
  },
  {
   "cell_type": "code",
   "execution_count": 4,
   "id": "c5933b65",
   "metadata": {},
   "outputs": [],
   "source": [
    "np.savez('test.npz', Ones_Mat = mat1, Zeros_Mat = mat2)"
   ]
  },
  {
   "cell_type": "code",
   "execution_count": 8,
   "id": "fb0d7075",
   "metadata": {},
   "outputs": [
    {
     "name": "stdout",
     "output_type": "stream",
     "text": [
      "[[1. 1. 1. 1.]\n",
      " [1. 1. 1. 1.]\n",
      " [1. 1. 1. 1.]]\n"
     ]
    }
   ],
   "source": [
    "with np.load('test.npz') as file:\n",
    "    mat_1 = file['Ones_Mat']\n",
    "    mat_2 = file['Zeros_Mat']\n",
    "    print(mat_1)"
   ]
  },
  {
   "cell_type": "code",
   "execution_count": 11,
   "id": "e6f6c507",
   "metadata": {},
   "outputs": [
    {
     "data": {
      "text/plain": [
       "array([[1, 2, 3],\n",
       "       [0, 0, 0],\n",
       "       [4, 5, 6],\n",
       "       [1, 1, 1]])"
      ]
     },
     "execution_count": 11,
     "metadata": {},
     "output_type": "execute_result"
    }
   ],
   "source": [
    "m1 = np.array([[1,2,3],\n",
    "               [0,0,0]])\n",
    "\n",
    "m2 = np.array([[4,5,6],\n",
    "               [1,1,1]])\n",
    "\n",
    "vart_mat = np.vstack((m1,m2))\n",
    "vart_mat"
   ]
  },
  {
   "cell_type": "code",
   "execution_count": 12,
   "id": "e59d5e92",
   "metadata": {},
   "outputs": [
    {
     "data": {
      "text/plain": [
       "array([[1, 2, 3, 4, 5, 6],\n",
       "       [0, 0, 0, 1, 1, 1]])"
      ]
     },
     "execution_count": 12,
     "metadata": {},
     "output_type": "execute_result"
    }
   ],
   "source": [
    "hori_mat = np.hstack((m1,m2))\n",
    "hori_mat"
   ]
  },
  {
   "cell_type": "code",
   "execution_count": 14,
   "id": "67cc0dda",
   "metadata": {},
   "outputs": [
    {
     "data": {
      "text/plain": [
       "array([False,  True, False,  True, False])"
      ]
     },
     "execution_count": 14,
     "metadata": {},
     "output_type": "execute_result"
    }
   ],
   "source": [
    "s = 4\n",
    "v = np.array([2,4,3,4,10])\n",
    "\n",
    "v == s"
   ]
  },
  {
   "cell_type": "code",
   "execution_count": 18,
   "id": "abcc70a9",
   "metadata": {},
   "outputs": [
    {
     "name": "stdout",
     "output_type": "stream",
     "text": [
      "False\n",
      "True\n"
     ]
    }
   ],
   "source": [
    "v = np.array([1,2,4,5,0])\n",
    "print(np.all(v>1)) #true if all are true\n",
    "print(np.any(v>1)) #true if any is true"
   ]
  },
  {
   "cell_type": "code",
   "execution_count": null,
   "id": "a8fef8cf",
   "metadata": {},
   "outputs": [
    {
     "data": {
      "text/plain": [
       "array([ True,  True, False,  True, False])"
      ]
     },
     "execution_count": 19,
     "metadata": {},
     "output_type": "execute_result"
    }
   ],
   "source": [
    "v1 = np.array([1,2,3,4,5])\n",
    "v2 = np.array([2,3,0,5,3])\n",
    "np.isclose(v1,v2,atol=1)    #tolerance"
   ]
  },
  {
   "cell_type": "code",
   "execution_count": 22,
   "id": "1009ac29",
   "metadata": {},
   "outputs": [
    {
     "name": "stdout",
     "output_type": "stream",
     "text": [
      "[False  True False  True  True]\n"
     ]
    }
   ],
   "source": [
    "v = np.array([2,4,3,4,10])\n",
    "condition = v>=4\n",
    "print(condition)"
   ]
  },
  {
   "cell_type": "code",
   "execution_count": 23,
   "id": "a38cbda3",
   "metadata": {},
   "outputs": [
    {
     "name": "stdout",
     "output_type": "stream",
     "text": [
      "[ 4  4 10]\n"
     ]
    }
   ],
   "source": [
    "v = np.array([2,4,3,4,10])\n",
    "condition = v>=4\n",
    "cond_access = v[condition]\n",
    "print(cond_access)"
   ]
  },
  {
   "cell_type": "code",
   "execution_count": null,
   "id": "438bbcfc",
   "metadata": {},
   "outputs": [],
   "source": []
  }
 ],
 "metadata": {
  "kernelspec": {
   "display_name": "Python 3",
   "language": "python",
   "name": "python3"
  },
  "language_info": {
   "codemirror_mode": {
    "name": "ipython",
    "version": 3
   },
   "file_extension": ".py",
   "mimetype": "text/x-python",
   "name": "python",
   "nbconvert_exporter": "python",
   "pygments_lexer": "ipython3",
   "version": "3.12.9"
  }
 },
 "nbformat": 4,
 "nbformat_minor": 5
}
