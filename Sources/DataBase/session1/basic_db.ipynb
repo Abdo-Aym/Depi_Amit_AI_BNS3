{
 "cells": [
  {
   "cell_type": "code",
   "execution_count": 2,
   "id": "b3b1cd99",
   "metadata": {},
   "outputs": [
    {
     "name": "stdout",
     "output_type": "stream",
     "text": [
      "Collecting psycopg2-binary\n",
      "  Downloading psycopg2_binary-2.9.10-cp312-cp312-win_amd64.whl.metadata (5.0 kB)\n",
      "Downloading psycopg2_binary-2.9.10-cp312-cp312-win_amd64.whl (1.2 MB)\n",
      "   ---------------------------------------- 0.0/1.2 MB ? eta -:--:--\n",
      "   --------- ------------------------------ 0.3/1.2 MB ? eta -:--:--\n",
      "   ---------------------------------------- 1.2/1.2 MB 3.9 MB/s eta 0:00:00\n",
      "Installing collected packages: psycopg2-binary\n",
      "Successfully installed psycopg2-binary-2.9.10\n",
      "Note: you may need to restart the kernel to use updated packages.\n"
     ]
    },
    {
     "name": "stderr",
     "output_type": "stream",
     "text": [
      "\n",
      "[notice] A new release of pip is available: 25.1.1 -> 25.2\n",
      "[notice] To update, run: python.exe -m pip install --upgrade pip\n"
     ]
    }
   ],
   "source": [
    "pip install psycopg2-binary"
   ]
  },
  {
   "cell_type": "code",
   "execution_count": 1,
   "id": "657a8b27",
   "metadata": {},
   "outputs": [],
   "source": [
    "import psycopg2"
   ]
  },
  {
   "cell_type": "markdown",
   "id": "73a2cb99",
   "metadata": {},
   "source": [
    "# reset password\n",
    "##### ALTER USER postgres WITH PASSWORD 'new_password';"
   ]
  },
  {
   "cell_type": "code",
   "execution_count": 2,
   "id": "e16d953c",
   "metadata": {},
   "outputs": [],
   "source": [
    "my_conn = psycopg2.connect(\n",
    "\n",
    "    host = \"localhost\",\n",
    "    database = \"ds_new\",\n",
    "    user = \"postgres\",\n",
    "    password = \"456456\"\n",
    "\n",
    "\n",
    ")"
   ]
  },
  {
   "cell_type": "code",
   "execution_count": 3,
   "id": "39acbc21",
   "metadata": {},
   "outputs": [],
   "source": [
    "cur = my_conn.cursor()"
   ]
  },
  {
   "cell_type": "code",
   "execution_count": 14,
   "id": "4f9f5df4",
   "metadata": {},
   "outputs": [
    {
     "name": "stdout",
     "output_type": "stream",
     "text": [
      "postgres\n"
     ]
    }
   ],
   "source": [
    "cur.execute('SELECT current_user')\n",
    "print(cur.fetchone()[0])"
   ]
  },
  {
   "cell_type": "code",
   "execution_count": null,
   "id": "385412cd",
   "metadata": {},
   "outputs": [],
   "source": [
    "my_conn.autocommit = True\n",
    "cur = my_conn.cursor()\n",
    " \n",
    "cur.execute(\"CREATE DATABASE DS_NEW\")"
   ]
  },
  {
   "cell_type": "markdown",
   "id": "329d1f76",
   "metadata": {},
   "source": [
    "How to get all database names"
   ]
  },
  {
   "cell_type": "code",
   "execution_count": 4,
   "id": "ff2ad388",
   "metadata": {},
   "outputs": [
    {
     "name": "stdout",
     "output_type": "stream",
     "text": [
      "postgres\n",
      "Depi\n",
      "School\n",
      "Data\n",
      "Test\n",
      "ds_new\n"
     ]
    }
   ],
   "source": [
    "cur.execute(\"select datname from PG_database where datistemplate = false\")\n",
    "for db in cur.fetchall():\n",
    "    print(db[0])"
   ]
  },
  {
   "cell_type": "code",
   "execution_count": 5,
   "id": "92d92170",
   "metadata": {},
   "outputs": [
    {
     "name": "stdout",
     "output_type": "stream",
     "text": [
      "table created\n"
     ]
    }
   ],
   "source": [
    "cur.execute(\"create table students (name VARCHAR(50), phone VARCHAR(20))\")\n",
    "print(\"table created\")"
   ]
  },
  {
   "cell_type": "code",
   "execution_count": 6,
   "id": "ff9fe926",
   "metadata": {},
   "outputs": [
    {
     "name": "stdout",
     "output_type": "stream",
     "text": [
      "column changed\n"
     ]
    }
   ],
   "source": [
    "cur.execute(\"Alter table students rename column phone_ to phone\")\n",
    "print(\"column changed\")"
   ]
  },
  {
   "cell_type": "code",
   "execution_count": 4,
   "id": "d314cf14",
   "metadata": {},
   "outputs": [],
   "source": [
    "my_conn.autocommit = True"
   ]
  },
  {
   "cell_type": "code",
   "execution_count": 7,
   "id": "e8eb70a7",
   "metadata": {},
   "outputs": [
    {
     "name": "stdout",
     "output_type": "stream",
     "text": [
      "the new record was inserted\n",
      "1\n"
     ]
    }
   ],
   "source": [
    "sql = \"insert into students (name,phone) values (%s, %s)\"\n",
    "data = (\"Abdallah\", \"01090995302\")\n",
    "cur.execute(sql,data)\n",
    "# my_conn.commit()\n",
    "print(\"the new record was inserted\")\n",
    "print(cur.rowcount)"
   ]
  },
  {
   "cell_type": "code",
   "execution_count": 10,
   "id": "315ab62c",
   "metadata": {},
   "outputs": [
    {
     "name": "stdout",
     "output_type": "stream",
     "text": [
      "the new record was inserted\n",
      "5\n"
     ]
    }
   ],
   "source": [
    "sql = \"insert into students (name,phone) values (%s, %s)\"\n",
    "data = [\n",
    "    (\"Abdallah\", \"01090995302\"),\n",
    "    (\"Abdallah\", \"01090995302\"),\n",
    "    (\"Abdallah\", \"01090995302\"),\n",
    "    (\"Abdallah\", \"01090995302\"),\n",
    "    (\"Abdallah\", \"01090995302\")\n",
    "]\n",
    "cur.executemany(sql,data)\n",
    "print(\"the new record was inserted\")\n",
    "print(cur.rowcount)"
   ]
  },
  {
   "cell_type": "code",
   "execution_count": 11,
   "id": "939cf0e7",
   "metadata": {},
   "outputs": [
    {
     "name": "stdout",
     "output_type": "stream",
     "text": [
      "('Ayman', '01100351518')\n",
      "('Abdallah', '01090995302')\n",
      "('Abdallah', '01090995302')\n",
      "('Abdallah', '01090995302')\n",
      "('Abdallah', '01090995302')\n",
      "('Abdallah', '01090995302')\n",
      "('Abdallah', '01090995302')\n"
     ]
    }
   ],
   "source": [
    "cur.execute(\"select * from students\")\n",
    "results = cur.fetchall()\n",
    "for i in results:\n",
    "    print(i)"
   ]
  },
  {
   "cell_type": "code",
   "execution_count": 12,
   "id": "c183ce70",
   "metadata": {},
   "outputs": [
    {
     "name": "stdout",
     "output_type": "stream",
     "text": [
      "('Ayman',)\n",
      "('Abdallah',)\n",
      "('Abdallah',)\n",
      "('Abdallah',)\n",
      "('Abdallah',)\n",
      "('Abdallah',)\n",
      "('Abdallah',)\n"
     ]
    }
   ],
   "source": [
    "cur.execute(\"select name from students\")\n",
    "results = cur.fetchall()\n",
    "for i in results:\n",
    "    print(i)"
   ]
  },
  {
   "cell_type": "code",
   "execution_count": 13,
   "id": "aec8bf2d",
   "metadata": {},
   "outputs": [
    {
     "name": "stdout",
     "output_type": "stream",
     "text": [
      "('01100351518',)\n"
     ]
    }
   ],
   "source": [
    "cur.execute(\"select phone from students where name = 'Ayman'\")\n",
    "results = cur.fetchall()\n",
    "for i in results:\n",
    "    print(i)"
   ]
  },
  {
   "cell_type": "code",
   "execution_count": 14,
   "id": "1e299062",
   "metadata": {},
   "outputs": [
    {
     "name": "stdout",
     "output_type": "stream",
     "text": [
      "('Ayman', '01100351518')\n",
      "('Abdallah', '01122334455')\n",
      "('Abdallah', '01122334455')\n",
      "('Abdallah', '01122334455')\n",
      "('Abdallah', '01122334455')\n",
      "('Abdallah', '01122334455')\n",
      "('Abdallah', '01122334455')\n"
     ]
    }
   ],
   "source": [
    "# Get inputs from user\n",
    "update_value = input(\"Enter new phone: \")\n",
    "condition_value = input(\"Enter student name: \")\n",
    " \n",
    "# Create the data tuple\n",
    "data = (update_value, condition_value)\n",
    " \n",
    "# Execute update with parameters\n",
    "sql = cur.execute(\"UPDATE students SET phone = %s WHERE name = %s\", data)\n",
    "my_conn.commit()\n",
    " \n",
    "# Fetch and print all rows\n",
    "cur.execute(\"SELECT * FROM students\")\n",
    "results = cur.fetchall()\n",
    "for row in results:\n",
    "    print(row)"
   ]
  },
  {
   "cell_type": "code",
   "execution_count": 16,
   "id": "0fd5ff94",
   "metadata": {},
   "outputs": [
    {
     "name": "stdout",
     "output_type": "stream",
     "text": [
      "No student found with that name.\n",
      "('Ayman', '01100351518')\n"
     ]
    }
   ],
   "source": [
    "# Ask for the student name to delete\n",
    "name_to_delete = input(\"Enter student name to delete: \")\n",
    " \n",
    "# Execute delete with parameter\n",
    "cur.execute(\"DELETE FROM students WHERE name = %s\", (name_to_delete,))\n",
    "my_conn.commit()\n",
    " \n",
    "# Check if anything was deleted\n",
    "if cur.rowcount > 0:\n",
    "    print(f\"{cur.rowcount} record(s) deleted.\")\n",
    "else:\n",
    "    print(\"No student found with that name.\")\n",
    " \n",
    "# Show remaining records\n",
    "cur.execute(\"SELECT * FROM students\")\n",
    "results = cur.fetchall()\n",
    "for row in results:\n",
    "    print(row)"
   ]
  }
 ],
 "metadata": {
  "kernelspec": {
   "display_name": "Python 3",
   "language": "python",
   "name": "python3"
  },
  "language_info": {
   "codemirror_mode": {
    "name": "ipython",
    "version": 3
   },
   "file_extension": ".py",
   "mimetype": "text/x-python",
   "name": "python",
   "nbconvert_exporter": "python",
   "pygments_lexer": "ipython3",
   "version": "3.12.9"
  }
 },
 "nbformat": 4,
 "nbformat_minor": 5
}
