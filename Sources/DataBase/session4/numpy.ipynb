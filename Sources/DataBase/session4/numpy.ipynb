{
 "cells": [
  {
   "cell_type": "code",
   "execution_count": 1,
   "id": "44ff47c1",
   "metadata": {},
   "outputs": [],
   "source": [
    "import numpy as np"
   ]
  },
  {
   "cell_type": "code",
   "execution_count": 16,
   "id": "56aa94c1",
   "metadata": {},
   "outputs": [
    {
     "name": "stdout",
     "output_type": "stream",
     "text": [
      "0\n",
      "()\n",
      "==============\n",
      "1\n",
      "(3,)\n",
      "==============\n",
      "2\n",
      "(3, 3)\n"
     ]
    }
   ],
   "source": [
    "s = np.array(5)\n",
    "print(s.ndim)\n",
    "print(s.shape)\n",
    "v = np.array([1,2,3])\n",
    "print(\"==============\")\n",
    "print(v.ndim)\n",
    "print(v.shape)\n",
    "m = np.array([[1,2,3],\n",
    "              [4,5,6],\n",
    "              [7,8,9]\n",
    "             ])\n",
    "print(\"==============\")\n",
    "print(m.ndim)\n",
    "print(m.shape)"
   ]
  },
  {
   "cell_type": "code",
   "execution_count": 19,
   "id": "a760e759",
   "metadata": {},
   "outputs": [
    {
     "name": "stdout",
     "output_type": "stream",
     "text": [
      "[1 2 3 4 5 6]\n",
      "[[1 2]\n",
      " [3 4]\n",
      " [5 6]]\n"
     ]
    }
   ],
   "source": [
    "vec1 = np.array([1,2,3,4,5,6])\n",
    "mat1 = vec1.reshape(3,2)\n",
    "print(vec1)\n",
    "print(mat1)"
   ]
  },
  {
   "cell_type": "code",
   "execution_count": 20,
   "id": "33f6af8b",
   "metadata": {},
   "outputs": [
    {
     "name": "stdout",
     "output_type": "stream",
     "text": [
      "[1 2 3 4]\n",
      "[[1]\n",
      " [2]\n",
      " [3]\n",
      " [4]]\n"
     ]
    }
   ],
   "source": [
    "vec2 = np.array([1,2,3,4])\n",
    "mat2 = vec2.reshape((vec2.shape[0],1))\n",
    "print(vec2)\n",
    "print(mat2)"
   ]
  },
  {
   "cell_type": "code",
   "execution_count": 22,
   "id": "e2853460",
   "metadata": {},
   "outputs": [
    {
     "data": {
      "text/plain": [
       "array([[1],\n",
       "       [2],\n",
       "       [3],\n",
       "       [4]])"
      ]
     },
     "execution_count": 22,
     "metadata": {},
     "output_type": "execute_result"
    }
   ],
   "source": [
    "vec2[:,None]"
   ]
  },
  {
   "cell_type": "code",
   "execution_count": 39,
   "id": "2c24df70",
   "metadata": {},
   "outputs": [
    {
     "name": "stdout",
     "output_type": "stream",
     "text": [
      "<U21\n",
      "[['False' 'True' 'Ayman']\n",
      " ['4' '5' '6']\n",
      " ['7' '8' '9']]\n"
     ]
    }
   ],
   "source": [
    "mat = np.array([[False,True,\"Ayman\"],\n",
    "                [4,5,6],\n",
    "                [7,8,9]\n",
    "               ])\n",
    "print(mat.dtype)\n",
    "print(mat)"
   ]
  },
  {
   "cell_type": "markdown",
   "id": "a7d907e5",
   "metadata": {},
   "source": [
    "Object, string, float, int, bool"
   ]
  },
  {
   "cell_type": "code",
   "execution_count": 33,
   "id": "cf0edc30",
   "metadata": {},
   "outputs": [],
   "source": [
    "class c:\n",
    "    x=3\n",
    "o1 = c()"
   ]
  },
  {
   "cell_type": "code",
   "execution_count": 43,
   "id": "25b3573d",
   "metadata": {},
   "outputs": [
    {
     "data": {
      "text/plain": [
       "array([[4, 5],\n",
       "       [7, 8]])"
      ]
     },
     "execution_count": 43,
     "metadata": {},
     "output_type": "execute_result"
    }
   ],
   "source": [
    "mat = np.array([[1,2,3],\n",
    "                [4,5,6],\n",
    "                [7,8,9]\n",
    "               ])\n",
    "mat[1:3,0:2]"
   ]
  },
  {
   "cell_type": "code",
   "execution_count": 44,
   "id": "0539202f",
   "metadata": {},
   "outputs": [
    {
     "data": {
      "text/plain": [
       "array([[1, 4, 7],\n",
       "       [2, 5, 8],\n",
       "       [3, 6, 9]])"
      ]
     },
     "execution_count": 44,
     "metadata": {},
     "output_type": "execute_result"
    }
   ],
   "source": [
    "transpose = mat.T\n",
    "transpose"
   ]
  },
  {
   "cell_type": "code",
   "execution_count": null,
   "id": "0dc93c78",
   "metadata": {},
   "outputs": [
    {
     "data": {
      "text/plain": [
       "array([[5, 5, 5],\n",
       "       [5, 5, 5],\n",
       "       [5, 5, 5]])"
      ]
     },
     "execution_count": 45,
     "metadata": {},
     "output_type": "execute_result"
    }
   ],
   "source": [
    "mat3 = np.full((3,3),5) #empty  #identity   \n",
    "mat3"
   ]
  },
  {
   "cell_type": "code",
   "execution_count": null,
   "id": "42b98338",
   "metadata": {},
   "outputs": [],
   "source": [
    "angles = np.arange(0,361,90)\n",
    "def rotate_img(angles):\n",
    "    return img"
   ]
  },
  {
   "cell_type": "code",
   "execution_count": 46,
   "id": "a50080b1",
   "metadata": {},
   "outputs": [
    {
     "data": {
      "text/plain": [
       "array([[0.59566248, 0.0106195 , 0.75486101],\n",
       "       [0.74630387, 0.04370831, 0.61047634],\n",
       "       [0.24556729, 0.66888437, 0.86916002]])"
      ]
     },
     "execution_count": 46,
     "metadata": {},
     "output_type": "execute_result"
    }
   ],
   "source": [
    "np.random.random((3,3))"
   ]
  },
  {
   "cell_type": "code",
   "execution_count": 51,
   "id": "c80a0629",
   "metadata": {},
   "outputs": [
    {
     "data": {
      "text/plain": [
       "array([[10,  7,  6,  1,  6],\n",
       "       [ 2,  8,  7,  0,  1],\n",
       "       [10,  0,  2,  4,  4],\n",
       "       [ 1,  2,  0,  8,  6],\n",
       "       [ 9,  9, 10,  8,  4]], dtype=int32)"
      ]
     },
     "execution_count": 51,
     "metadata": {},
     "output_type": "execute_result"
    }
   ],
   "source": [
    "np.random.randint(0,11,(5,5))"
   ]
  },
  {
   "cell_type": "code",
   "execution_count": 50,
   "id": "f27dd3a7",
   "metadata": {},
   "outputs": [
    {
     "data": {
      "text/plain": [
       "array([['amir', '10', 'True', '10', 'amir'],\n",
       "       ['amir', '10', 'True', '10', 'True'],\n",
       "       ['True', 'ali', 'amir', 'True', '10']], dtype='<U21')"
      ]
     },
     "execution_count": 50,
     "metadata": {},
     "output_type": "execute_result"
    }
   ],
   "source": [
    "a = ['ali',10,'amir',True]\n",
    "np.random.choice(a,size=(3,5))"
   ]
  }
 ],
 "metadata": {
  "kernelspec": {
   "display_name": "Python 3",
   "language": "python",
   "name": "python3"
  },
  "language_info": {
   "codemirror_mode": {
    "name": "ipython",
    "version": 3
   },
   "file_extension": ".py",
   "mimetype": "text/x-python",
   "name": "python",
   "nbconvert_exporter": "python",
   "pygments_lexer": "ipython3",
   "version": "3.12.9"
  }
 },
 "nbformat": 4,
 "nbformat_minor": 5
}
