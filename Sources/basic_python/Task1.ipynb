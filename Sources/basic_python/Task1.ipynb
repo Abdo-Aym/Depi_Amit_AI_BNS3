{
 "cells": [
  {
   "cell_type": "code",
   "execution_count": 15,
   "id": "0a68fafa",
   "metadata": {},
   "outputs": [
    {
     "data": {
      "text/plain": [
       "'Welcome PGTQ'"
      ]
     },
     "execution_count": 19,
     "metadata": {},
     "output_type": "execute_result"
    }
   ],
   "source": [
    "Encoded = '###!!@mocleW EPGTQ!!!6789'\n",
    "msg = Encoded[6:18]\n",
    "msg = msg.split()\n",
    "msg1 = msg[0]\n",
    "msg1 = msg1[-1: :-1] + 'e'\n",
    "msg2 = msg[1]\n",
    "msg2 = msg2[1: ]\n",
    "msg = msg1 + ' ' + msg2\n",
    "msg"
   ]
  }
 ],
 "metadata": {
  "kernelspec": {
   "display_name": ".env",
   "language": "python",
   "name": "python3"
  },
  "language_info": {
   "codemirror_mode": {
    "name": "ipython",
    "version": 3
   },
   "file_extension": ".py",
   "mimetype": "text/x-python",
   "name": "python",
   "nbconvert_exporter": "python",
   "pygments_lexer": "ipython3",
   "version": "3.12.9"
  }
 },
 "nbformat": 4,
 "nbformat_minor": 5
}
