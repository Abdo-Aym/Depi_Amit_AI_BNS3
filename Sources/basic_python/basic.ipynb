{
 "cells": [
  {
   "cell_type": "code",
   "execution_count": 8,
   "id": "8a5c5ce1",
   "metadata": {},
   "outputs": [
    {
     "name": "stdout",
     "output_type": "stream",
     "text": [
      "Hello World\n"
     ]
    }
   ],
   "source": [
    "print(\"Hello World\")"
   ]
  },
  {
   "cell_type": "code",
   "execution_count": null,
   "id": "b39fa454",
   "metadata": {},
   "outputs": [],
   "source": [
    "x = \"Hello\""
   ]
  },
  {
   "cell_type": "code",
   "execution_count": 7,
   "id": "972a2408",
   "metadata": {},
   "outputs": [
    {
     "data": {
      "text/plain": [
       "'0x236610021f0'"
      ]
     },
     "execution_count": 7,
     "metadata": {},
     "output_type": "execute_result"
    }
   ],
   "source": [
    "hex(id(x))"
   ]
  },
  {
   "cell_type": "code",
   "execution_count": 9,
   "id": "d3dc0aae",
   "metadata": {},
   "outputs": [
    {
     "data": {
      "text/plain": [
       "str"
      ]
     },
     "execution_count": 9,
     "metadata": {},
     "output_type": "execute_result"
    }
   ],
   "source": [
    "type(x)"
   ]
  },
  {
   "cell_type": "code",
   "execution_count": 11,
   "id": "a7f6f1ee",
   "metadata": {},
   "outputs": [
    {
     "data": {
      "text/plain": [
       "'print(\"Hello World\")\\nprint(\"Hello World\")\\nprint(\"Hello World\")\\n'"
      ]
     },
     "execution_count": 11,
     "metadata": {},
     "output_type": "execute_result"
    }
   ],
   "source": [
    "'''print(\"Hello World\")\n",
    "print(\"Hello World\")\n",
    "print(\"Hello World\")\n",
    "'''"
   ]
  },
  {
   "cell_type": "code",
   "execution_count": null,
   "id": "dac67b04",
   "metadata": {},
   "outputs": [
    {
     "name": "stdout",
     "output_type": "stream",
     "text": [
      "my age is 20\n"
     ]
    }
   ],
   "source": [
    "age = 20\n",
    "name = 'Ayman'\n",
    "print(\"my age is\", age)"
   ]
  },
  {
   "cell_type": "code",
   "execution_count": 17,
   "id": "baa938e1",
   "metadata": {},
   "outputs": [
    {
     "name": "stdout",
     "output_type": "stream",
     "text": [
      "my name is Ayman, and my age is 20\n",
      "my name is Ayman, and my age is 20\n"
     ]
    }
   ],
   "source": [
    "\n",
    "print(\"my name is {0}, and my age is {1}\".format(name,age))\n",
    "print(f'my name is {name}, and my age is {age}')"
   ]
  },
  {
   "cell_type": "code",
   "execution_count": null,
   "id": "77832d18",
   "metadata": {},
   "outputs": [
    {
     "name": "stdout",
     "output_type": "stream",
     "text": [
      "Ai\n",
      "Amit Learning\n"
     ]
    }
   ],
   "source": [
    "str1 = 'Amit Learning'\n",
    "str1[-3]\n",
    "print(str1[0:4:2])\n",
    "print(str1[:])"
   ]
  },
  {
   "cell_type": "code",
   "execution_count": 2,
   "id": "a320907a",
   "metadata": {},
   "outputs": [
    {
     "name": "stdout",
     "output_type": "stream",
     "text": [
      "AMIT LEARNING\n",
      "amit learning\n",
      "Amit learning\n",
      "Hello Learning\n",
      "2\n"
     ]
    },
    {
     "data": {
      "text/plain": [
       "'Amit Learning'"
      ]
     },
     "execution_count": 2,
     "metadata": {},
     "output_type": "execute_result"
    }
   ],
   "source": [
    "str2 = 'Amit Learning'\n",
    "print(str2.upper())\n",
    "print(str2.lower())\n",
    "print(str2.capitalize())\n",
    "print(str2.replace('Amit','Hello'))\n",
    "print(str2.count(\"n\"))\n",
    "str2[3]\n",
    "str2[6]\n",
    "str2\n"
   ]
  },
  {
   "cell_type": "code",
   "execution_count": 44,
   "id": "b09b66a0",
   "metadata": {},
   "outputs": [
    {
     "name": "stdout",
     "output_type": "stream",
     "text": [
      "This-is-a-sentence.\n"
     ]
    }
   ],
   "source": [
    "words= ['This', 'is', 'a', 'sentence.']\n",
    "print('-'.join(words))"
   ]
  },
  {
   "cell_type": "code",
   "execution_count": null,
   "id": "c9118038",
   "metadata": {},
   "outputs": [
    {
     "data": {
      "text/plain": [
       "[1, 2, 3, 4, 1, 2, 3, 4, 1, 2, 3, 4]"
      ]
     },
     "execution_count": 45,
     "metadata": {},
     "output_type": "execute_result"
    }
   ],
   "source": [
    "list1 = [1,2,3,4]\n",
    "list1*3"
   ]
  },
  {
   "cell_type": "code",
   "execution_count": null,
   "id": "c97a842b",
   "metadata": {},
   "outputs": [
    {
     "name": "stdout",
     "output_type": "stream",
     "text": [
      "4\n"
     ]
    },
    {
     "data": {
      "text/plain": [
       "['Ayman', 20, 50, True, 'Ahmed']"
      ]
     },
     "execution_count": 49,
     "metadata": {},
     "output_type": "execute_result"
    }
   ],
   "source": [
    "list2 = ['Ayman', 20,50,True]\n",
    "print(len(list2))\n",
    "list2 + ['Ahmed']"
   ]
  },
  {
   "cell_type": "code",
   "execution_count": null,
   "id": "a48c00b8",
   "metadata": {},
   "outputs": [
    {
     "data": {
      "text/plain": [
       "'v1'"
      ]
     },
     "execution_count": 51,
     "metadata": {},
     "output_type": "execute_result"
    }
   ],
   "source": [
    "dict1 = {'k1':'v1','k2':'v2'}\n",
    "dict1['k1']"
   ]
  },
  {
   "cell_type": "code",
   "execution_count": null,
   "id": "1f3f0a83",
   "metadata": {},
   "outputs": [
    {
     "data": {
      "text/plain": [
       "True"
      ]
     },
     "execution_count": 52,
     "metadata": {},
     "output_type": "execute_result"
    }
   ],
   "source": [
    "2 == 2"
   ]
  },
  {
   "cell_type": "code",
   "execution_count": 53,
   "id": "c537ca77",
   "metadata": {},
   "outputs": [
    {
     "data": {
      "text/plain": [
       "True"
      ]
     },
     "execution_count": 53,
     "metadata": {},
     "output_type": "execute_result"
    }
   ],
   "source": [
    "'A' in 'Ayman'"
   ]
  },
  {
   "cell_type": "code",
   "execution_count": null,
   "id": "cc106f5e",
   "metadata": {},
   "outputs": [],
   "source": [
    "# find\n",
    "# strip"
   ]
  },
  {
   "cell_type": "code",
   "execution_count": 56,
   "id": "1d6aba9d",
   "metadata": {},
   "outputs": [
    {
     "data": {
      "text/plain": [
       "'Ayman Ahmed'"
      ]
     },
     "execution_count": 56,
     "metadata": {},
     "output_type": "execute_result"
    }
   ],
   "source": [
    "input('Enter your name: ')"
   ]
  },
  {
   "cell_type": "code",
   "execution_count": 57,
   "id": "f8ce800d",
   "metadata": {},
   "outputs": [
    {
     "name": "stdout",
     "output_type": "stream",
     "text": [
      "numbers multiplied = 20, numbers subtracted = 1\n"
     ]
    }
   ],
   "source": [
    "n1 = int(input('Enter first number: '))\n",
    "n2 = int(input('Enter second number: '))\n",
    "mul = n1 * n2\n",
    "subt = n1 - n2\n",
    "print(f'numbers multiplied = {mul}, numbers subtracted = {subt}')"
   ]
  }
 ],
 "metadata": {
  "kernelspec": {
   "display_name": ".env",
   "language": "python",
   "name": "python3"
  },
  "language_info": {
   "codemirror_mode": {
    "name": "ipython",
    "version": 3
   },
   "file_extension": ".py",
   "mimetype": "text/x-python",
   "name": "python",
   "nbconvert_exporter": "python",
   "pygments_lexer": "ipython3",
   "version": "3.12.9"
  }
 },
 "nbformat": 4,
 "nbformat_minor": 5
}
