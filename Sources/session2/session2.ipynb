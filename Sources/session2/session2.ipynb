{
 "cells": [
  {
   "cell_type": "code",
   "execution_count": 3,
   "id": "ae193a02",
   "metadata": {},
   "outputs": [
    {
     "data": {
      "text/plain": [
       "list"
      ]
     },
     "execution_count": 3,
     "metadata": {},
     "output_type": "execute_result"
    }
   ],
   "source": [
    "list1 = [1,2,3,4,'Depi','Learning',True,[1,2,3,'True',['ML','DL','DS']]]\n",
    "type(list1)"
   ]
  },
  {
   "cell_type": "code",
   "execution_count": 6,
   "id": "f715465e",
   "metadata": {},
   "outputs": [
    {
     "data": {
      "text/plain": [
       "'ML'"
      ]
     },
     "execution_count": 6,
     "metadata": {},
     "output_type": "execute_result"
    }
   ],
   "source": [
    "list1[7][4][0]"
   ]
  },
  {
   "cell_type": "code",
   "execution_count": 7,
   "id": "99e350e1",
   "metadata": {},
   "outputs": [
    {
     "data": {
      "text/plain": [
       "[1, 2, 3, 4, 'amit', 'Learning', True, [1, 2, 3, 'True', ['ML', 'DL', 'DS']]]"
      ]
     },
     "execution_count": 7,
     "metadata": {},
     "output_type": "execute_result"
    }
   ],
   "source": [
    "list1[4] = 'amit'\n",
    "list1"
   ]
  },
  {
   "cell_type": "code",
   "execution_count": 8,
   "id": "15404f8f",
   "metadata": {},
   "outputs": [
    {
     "name": "stdout",
     "output_type": "stream",
     "text": [
      "<class 'str'>\n",
      "<class 'list'>\n"
     ]
    }
   ],
   "source": [
    "x = 'Ayman'\n",
    "print(type(x))\n",
    "y = list(x)\n",
    "print(type(y))"
   ]
  },
  {
   "cell_type": "code",
   "execution_count": 9,
   "id": "edf9891d",
   "metadata": {},
   "outputs": [
    {
     "data": {
      "text/plain": [
       "['Depi', 'Data', 'Science', 'Machine Learning']"
      ]
     },
     "execution_count": 9,
     "metadata": {},
     "output_type": "execute_result"
    }
   ],
   "source": [
    "list2 = ['Depi','Data','Science']\n",
    "list2.append('Machine Learning')\n",
    "list2"
   ]
  },
  {
   "cell_type": "code",
   "execution_count": null,
   "id": "f42b8209",
   "metadata": {},
   "outputs": [
    {
     "data": {
      "text/plain": [
       "['Machine Learning', 'Depi', 'Data', 'Science']"
      ]
     },
     "execution_count": 11,
     "metadata": {},
     "output_type": "execute_result"
    }
   ],
   "source": [
    "list2.insert(0,'Machine Learning')\n",
    "list2"
   ]
  },
  {
   "cell_type": "code",
   "execution_count": 12,
   "id": "4e57b5e1",
   "metadata": {},
   "outputs": [
    {
     "data": {
      "text/plain": [
       "[1, 2, 3, 3, 4, 5]"
      ]
     },
     "execution_count": 12,
     "metadata": {},
     "output_type": "execute_result"
    }
   ],
   "source": [
    "x1 = [1,2,3]\n",
    "x2 = [3,4,5]\n",
    "x1.extend(x2)\n",
    "x1"
   ]
  },
  {
   "cell_type": "code",
   "execution_count": 13,
   "id": "a507adbd",
   "metadata": {},
   "outputs": [
    {
     "data": {
      "text/plain": [
       "['Data', 'Science']"
      ]
     },
     "execution_count": 13,
     "metadata": {},
     "output_type": "execute_result"
    }
   ],
   "source": [
    "list2 = ['Depi','Data','Science']\n",
    "list2.remove('Depi')\n",
    "list2"
   ]
  },
  {
   "cell_type": "code",
   "execution_count": 17,
   "id": "1b018613",
   "metadata": {},
   "outputs": [
    {
     "name": "stdout",
     "output_type": "stream",
     "text": [
      "Depi\n"
     ]
    },
    {
     "data": {
      "text/plain": [
       "['Data', 'Science']"
      ]
     },
     "execution_count": 17,
     "metadata": {},
     "output_type": "execute_result"
    }
   ],
   "source": [
    "list2 = ['Depi','Data','Science']\n",
    "print(list2.pop(0))\n",
    "list2\n"
   ]
  },
  {
   "cell_type": "code",
   "execution_count": 18,
   "id": "54f422ff",
   "metadata": {},
   "outputs": [
    {
     "data": {
      "text/plain": [
       "[1, 1, 2, 3, 4, 5, 9]"
      ]
     },
     "execution_count": 18,
     "metadata": {},
     "output_type": "execute_result"
    }
   ],
   "source": [
    "my_list = [3,1,4,1,5,9,2]\n",
    "my_list.sort()\n",
    "my_list"
   ]
  },
  {
   "cell_type": "code",
   "execution_count": 19,
   "id": "42fdc67f",
   "metadata": {},
   "outputs": [
    {
     "data": {
      "text/plain": [
       "[2, 9, 5, 1, 4, 1, 3]"
      ]
     },
     "execution_count": 19,
     "metadata": {},
     "output_type": "execute_result"
    }
   ],
   "source": [
    "my_list = [3,1,4,1,5,9,2]\n",
    "my_list.reverse()\n",
    "my_list"
   ]
  },
  {
   "cell_type": "code",
   "execution_count": 22,
   "id": "316c90c3",
   "metadata": {},
   "outputs": [
    {
     "data": {
      "text/plain": [
       "[]"
      ]
     },
     "execution_count": 22,
     "metadata": {},
     "output_type": "execute_result"
    }
   ],
   "source": [
    "my_list = [3,1,4,1,5,9,2]\n",
    "my_list.clear()\n",
    "my_list"
   ]
  },
  {
   "cell_type": "code",
   "execution_count": 23,
   "id": "7ea6af9a",
   "metadata": {},
   "outputs": [],
   "source": [
    "del my_list\n",
    "# my_list"
   ]
  },
  {
   "cell_type": "code",
   "execution_count": 25,
   "id": "0e9f055f",
   "metadata": {},
   "outputs": [
    {
     "name": "stdout",
     "output_type": "stream",
     "text": [
      "<class 'tuple'>\n"
     ]
    }
   ],
   "source": [
    "tuple1 = (1,2,3,4,'Depi','Learning',True,[1,2,3,'True',('ML','DL','DS')])\n",
    "print(type(tuple1))"
   ]
  },
  {
   "cell_type": "code",
   "execution_count": 29,
   "id": "64ddad97",
   "metadata": {},
   "outputs": [
    {
     "name": "stdout",
     "output_type": "stream",
     "text": [
      "[1, 2, 3, 4, 'AMIT', 'Learning', True, [1, 2, 3, 'True', ('ML', 'DL', 'DS')]]\n",
      "<class 'list'>\n",
      "(1, 2, 3, 4, 'AMIT', 'Learning', True, [1, 2, 3, 'True', ('ML', 'DL', 'DS')])\n",
      "<class 'tuple'>\n"
     ]
    }
   ],
   "source": [
    "tuple1 = list(tuple1)\n",
    "tuple1[4] = 'AMIT'\n",
    "print(tuple1)\n",
    "print(type(tuple1))\n",
    "tuple1 = tuple(tuple1)\n",
    "print(tuple1)\n",
    "print(type(tuple1))"
   ]
  },
  {
   "cell_type": "code",
   "execution_count": 32,
   "id": "840ada9b",
   "metadata": {},
   "outputs": [
    {
     "name": "stdout",
     "output_type": "stream",
     "text": [
      "{'ali', 'ahmed', 'mona'}\n"
     ]
    },
    {
     "data": {
      "text/plain": [
       "set"
      ]
     },
     "execution_count": 32,
     "metadata": {},
     "output_type": "execute_result"
    }
   ],
   "source": [
    "x3 = ['ahmed','ali','mona']\n",
    "x3 = set(x3)\n",
    "print(x3)\n",
    "type(x3)"
   ]
  },
  {
   "cell_type": "code",
   "execution_count": 33,
   "id": "0277ad0b",
   "metadata": {},
   "outputs": [
    {
     "data": {
      "text/plain": [
       "{'k1': 'amit learning', 'k2': 'Depi', 'k3': 'Python'}"
      ]
     },
     "execution_count": 33,
     "metadata": {},
     "output_type": "execute_result"
    }
   ],
   "source": [
    "dict1 = {'k1': 12.7,'k2':'Depi','k3':'Python'}\n",
    "dict1['k1'] = 'amit learning'\n",
    "dict1"
   ]
  },
  {
   "cell_type": "code",
   "execution_count": 35,
   "id": "0c646bd9",
   "metadata": {},
   "outputs": [
    {
     "data": {
      "text/plain": [
       "{'a': 1, 'b': 2, 'c': 3}"
      ]
     },
     "execution_count": 35,
     "metadata": {},
     "output_type": "execute_result"
    }
   ],
   "source": [
    "list3 = [('a',1),('b',2),('c',3)]\n",
    "list3\n",
    "dict2 = dict(list3)\n",
    "dict2"
   ]
  },
  {
   "cell_type": "code",
   "execution_count": 41,
   "id": "1dc13e39",
   "metadata": {},
   "outputs": [
    {
     "name": "stdout",
     "output_type": "stream",
     "text": [
      "Invalid degree\n"
     ]
    }
   ],
   "source": [
    "degree = int(input(\"Enter student's degree: \"))\n",
    "if 0 <= degree <= 100:\n",
    "    if degree < 60:\n",
    "        print('Grade: F')\n",
    "    elif degree < 70:\n",
    "        print('Grade: D')\n",
    "    elif degree < 80:\n",
    "        print('Grade: C')\n",
    "    elif degree < 90:\n",
    "        print('Grade: B')\n",
    "    else:\n",
    "        print('Grade: A')\n",
    "else:\n",
    "    print('Invalid degree')"
   ]
  },
  {
   "cell_type": "code",
   "execution_count": 42,
   "id": "29704a93",
   "metadata": {},
   "outputs": [
    {
     "name": "stdout",
     "output_type": "stream",
     "text": [
      "0\n",
      "1\n",
      "2\n",
      "4\n",
      "5\n"
     ]
    }
   ],
   "source": [
    "for i in range (6):\n",
    "    if i == 3:\n",
    "        continue\n",
    "    print(i)"
   ]
  },
  {
   "cell_type": "code",
   "execution_count": 43,
   "id": "94c53151",
   "metadata": {},
   "outputs": [
    {
     "name": "stdout",
     "output_type": "stream",
     "text": [
      "0\n",
      "1\n",
      "2\n",
      "3\n"
     ]
    }
   ],
   "source": [
    "for i in range (6):\n",
    "    if i == 4:\n",
    "        break\n",
    "    print(i)"
   ]
  },
  {
   "cell_type": "code",
   "execution_count": 44,
   "id": "78ebc743",
   "metadata": {},
   "outputs": [
    {
     "name": "stdout",
     "output_type": "stream",
     "text": [
      "0\n",
      "1\n",
      "2\n",
      "4\n",
      "5\n"
     ]
    }
   ],
   "source": [
    "for i in range (6):\n",
    "    if i == 3:\n",
    "        pass\n",
    "    else:\n",
    "        print(i)"
   ]
  },
  {
   "cell_type": "code",
   "execution_count": 48,
   "id": "62fedefa",
   "metadata": {},
   "outputs": [
    {
     "name": "stdout",
     "output_type": "stream",
     "text": [
      "1\n",
      "2\n",
      "3\n",
      "4\n",
      "5\n",
      "6\n",
      "7\n",
      "8\n",
      "9\n",
      "10\n"
     ]
    }
   ],
   "source": [
    "x = 1\n",
    "while x<=10:\n",
    "    print(x)\n",
    "    x = x+1"
   ]
  }
 ],
 "metadata": {
  "kernelspec": {
   "display_name": ".env",
   "language": "python",
   "name": "python3"
  },
  "language_info": {
   "codemirror_mode": {
    "name": "ipython",
    "version": 3
   },
   "file_extension": ".py",
   "mimetype": "text/x-python",
   "name": "python",
   "nbconvert_exporter": "python",
   "pygments_lexer": "ipython3",
   "version": "3.12.9"
  }
 },
 "nbformat": 4,
 "nbformat_minor": 5
}
